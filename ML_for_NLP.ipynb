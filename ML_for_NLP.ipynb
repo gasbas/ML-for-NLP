{
  "nbformat": 4,
  "nbformat_minor": 0,
  "metadata": {
    "colab": {
      "name": "ML_for_NLP.ipynb",
      "provenance": [],
      "collapsed_sections": [],
      "toc_visible": true
    },
    "kernelspec": {
      "name": "python3",
      "display_name": "Python 3"
    },
    "language_info": {
      "name": "python"
    },
    "accelerator": "GPU"
  },
  "cells": [
    {
      "cell_type": "code",
      "source": [
        "from google.colab import drive\n",
        "drive.mount('/content/gdrive/')"
      ],
      "metadata": {
        "colab": {
          "base_uri": "https://localhost:8080/"
        },
        "id": "NrRL1aBmB67G",
        "outputId": "857b5060-e834-4ffa-9d5b-bb641181c915"
      },
      "execution_count": 2,
      "outputs": [
        {
          "output_type": "stream",
          "name": "stdout",
          "text": [
            "Mounted at /content/gdrive/\n"
          ]
        }
      ]
    },
    {
      "cell_type": "markdown",
      "source": [
        "### Downloading the CNN/DailyMail dataset for Text Summarization"
      ],
      "metadata": {
        "id": "yWoCZ_LiCTO-"
      }
    },
    {
      "cell_type": "code",
      "execution_count": null,
      "metadata": {
        "id": "AoZaDPozB0EH"
      },
      "outputs": [],
      "source": [
        "!pip install datasets\n",
        "import datasets\n",
        "dataset = datasets.load_dataset(\"ccdv/cnn_dailymail\", '3.0.0')"
      ]
    },
    {
      "cell_type": "code",
      "source": [
        "import pandas as pd\n",
        "import numpy as np\n",
        "import nltk\n",
        "import os\n",
        "nltk.download(['wordnet','punkt','stopwords'])\n",
        "!pip install rouge-score\n",
        "from rouge_score import rouge_scorer\n",
        "import matplotlib.pyplot as plt \n",
        "import seaborn as sns\n",
        "import re\n",
        "from tqdm import tqdm\n",
        "tqdm.pandas()\n",
        "import pickle\n",
        "from collections import Counter, OrderedDict\n",
        "!pip install torchtext --extra-index-url https://download.pytorch.org/whl/cu111 --upgrade\n",
        "!python -m spacy download en_core_web_sm\n",
        "from torchtext.vocab import vocab\n",
        "from torchtext.data.utils import get_tokenizer\n",
        "import torch\n",
        "from torch.nn.utils.rnn import pad_sequence\n",
        "\n",
        "load = True"
      ],
      "metadata": {
        "colab": {
          "base_uri": "https://localhost:8080/"
        },
        "id": "mqI68oulCfHW",
        "outputId": "4140e138-c38a-412a-ccba-922da350fa11"
      },
      "execution_count": 4,
      "outputs": [
        {
          "output_type": "stream",
          "name": "stdout",
          "text": [
            "[nltk_data] Downloading package wordnet to /root/nltk_data...\n",
            "[nltk_data]   Unzipping corpora/wordnet.zip.\n",
            "[nltk_data] Downloading package punkt to /root/nltk_data...\n",
            "[nltk_data]   Unzipping tokenizers/punkt.zip.\n",
            "[nltk_data] Downloading package stopwords to /root/nltk_data...\n",
            "[nltk_data]   Unzipping corpora/stopwords.zip.\n",
            "Collecting rouge-score\n",
            "  Downloading rouge_score-0.0.4-py2.py3-none-any.whl (22 kB)\n",
            "Requirement already satisfied: nltk in /usr/local/lib/python3.7/dist-packages (from rouge-score) (3.2.5)\n",
            "Requirement already satisfied: numpy in /usr/local/lib/python3.7/dist-packages (from rouge-score) (1.21.6)\n",
            "Requirement already satisfied: absl-py in /usr/local/lib/python3.7/dist-packages (from rouge-score) (1.0.0)\n",
            "Requirement already satisfied: six>=1.14.0 in /usr/local/lib/python3.7/dist-packages (from rouge-score) (1.15.0)\n",
            "Installing collected packages: rouge-score\n",
            "Successfully installed rouge-score-0.0.4\n",
            "Looking in indexes: https://pypi.org/simple, https://download.pytorch.org/whl/cu111\n",
            "Requirement already satisfied: torchtext in /usr/local/lib/python3.7/dist-packages (0.11.0)\n",
            "Collecting torchtext\n",
            "  Downloading torchtext-0.12.0-cp37-cp37m-manylinux1_x86_64.whl (10.4 MB)\n",
            "\u001b[K     |████████████████████████████████| 10.4 MB 9.8 MB/s \n",
            "\u001b[?25hCollecting torch==1.11.0\n",
            "  Downloading torch-1.11.0-cp37-cp37m-manylinux1_x86_64.whl (750.6 MB)\n",
            "\u001b[K     |████████████████████████████████| 750.6 MB 12 kB/s \n",
            "\u001b[?25hRequirement already satisfied: numpy in /usr/local/lib/python3.7/dist-packages (from torchtext) (1.21.6)\n",
            "Requirement already satisfied: tqdm in /usr/local/lib/python3.7/dist-packages (from torchtext) (4.64.0)\n",
            "Requirement already satisfied: requests in /usr/local/lib/python3.7/dist-packages (from torchtext) (2.23.0)\n",
            "Requirement already satisfied: typing-extensions in /usr/local/lib/python3.7/dist-packages (from torch==1.11.0->torchtext) (4.1.1)\n",
            "Requirement already satisfied: urllib3!=1.25.0,!=1.25.1,<1.26,>=1.21.1 in /usr/local/lib/python3.7/dist-packages (from requests->torchtext) (1.24.3)\n",
            "Requirement already satisfied: idna<3,>=2.5 in /usr/local/lib/python3.7/dist-packages (from requests->torchtext) (2.10)\n",
            "Requirement already satisfied: certifi>=2017.4.17 in /usr/local/lib/python3.7/dist-packages (from requests->torchtext) (2021.10.8)\n",
            "Requirement already satisfied: chardet<4,>=3.0.2 in /usr/local/lib/python3.7/dist-packages (from requests->torchtext) (3.0.4)\n",
            "Installing collected packages: torch, torchtext\n",
            "  Attempting uninstall: torch\n",
            "    Found existing installation: torch 1.10.0+cu111\n",
            "    Uninstalling torch-1.10.0+cu111:\n",
            "      Successfully uninstalled torch-1.10.0+cu111\n",
            "  Attempting uninstall: torchtext\n",
            "    Found existing installation: torchtext 0.11.0\n",
            "    Uninstalling torchtext-0.11.0:\n",
            "      Successfully uninstalled torchtext-0.11.0\n",
            "\u001b[31mERROR: pip's dependency resolver does not currently take into account all the packages that are installed. This behaviour is the source of the following dependency conflicts.\n",
            "torchvision 0.11.1+cu111 requires torch==1.10.0, but you have torch 1.11.0 which is incompatible.\n",
            "torchaudio 0.10.0+cu111 requires torch==1.10.0, but you have torch 1.11.0 which is incompatible.\u001b[0m\n",
            "Successfully installed torch-1.11.0 torchtext-0.12.0\n",
            "Collecting en_core_web_sm==2.2.5\n",
            "  Downloading https://github.com/explosion/spacy-models/releases/download/en_core_web_sm-2.2.5/en_core_web_sm-2.2.5.tar.gz (12.0 MB)\n",
            "\u001b[K     |████████████████████████████████| 12.0 MB 12.9 MB/s \n",
            "\u001b[?25hRequirement already satisfied: spacy>=2.2.2 in /usr/local/lib/python3.7/dist-packages (from en_core_web_sm==2.2.5) (2.2.4)\n",
            "Requirement already satisfied: tqdm<5.0.0,>=4.38.0 in /usr/local/lib/python3.7/dist-packages (from spacy>=2.2.2->en_core_web_sm==2.2.5) (4.64.0)\n",
            "Requirement already satisfied: murmurhash<1.1.0,>=0.28.0 in /usr/local/lib/python3.7/dist-packages (from spacy>=2.2.2->en_core_web_sm==2.2.5) (1.0.6)\n",
            "Requirement already satisfied: thinc==7.4.0 in /usr/local/lib/python3.7/dist-packages (from spacy>=2.2.2->en_core_web_sm==2.2.5) (7.4.0)\n",
            "Requirement already satisfied: catalogue<1.1.0,>=0.0.7 in /usr/local/lib/python3.7/dist-packages (from spacy>=2.2.2->en_core_web_sm==2.2.5) (1.0.0)\n",
            "Requirement already satisfied: plac<1.2.0,>=0.9.6 in /usr/local/lib/python3.7/dist-packages (from spacy>=2.2.2->en_core_web_sm==2.2.5) (1.1.3)\n",
            "Requirement already satisfied: blis<0.5.0,>=0.4.0 in /usr/local/lib/python3.7/dist-packages (from spacy>=2.2.2->en_core_web_sm==2.2.5) (0.4.1)\n",
            "Requirement already satisfied: requests<3.0.0,>=2.13.0 in /usr/local/lib/python3.7/dist-packages (from spacy>=2.2.2->en_core_web_sm==2.2.5) (2.23.0)\n",
            "Requirement already satisfied: numpy>=1.15.0 in /usr/local/lib/python3.7/dist-packages (from spacy>=2.2.2->en_core_web_sm==2.2.5) (1.21.6)\n",
            "Requirement already satisfied: wasabi<1.1.0,>=0.4.0 in /usr/local/lib/python3.7/dist-packages (from spacy>=2.2.2->en_core_web_sm==2.2.5) (0.9.1)\n",
            "Requirement already satisfied: preshed<3.1.0,>=3.0.2 in /usr/local/lib/python3.7/dist-packages (from spacy>=2.2.2->en_core_web_sm==2.2.5) (3.0.6)\n",
            "Requirement already satisfied: setuptools in /usr/local/lib/python3.7/dist-packages (from spacy>=2.2.2->en_core_web_sm==2.2.5) (57.4.0)\n",
            "Requirement already satisfied: cymem<2.1.0,>=2.0.2 in /usr/local/lib/python3.7/dist-packages (from spacy>=2.2.2->en_core_web_sm==2.2.5) (2.0.6)\n",
            "Requirement already satisfied: srsly<1.1.0,>=1.0.2 in /usr/local/lib/python3.7/dist-packages (from spacy>=2.2.2->en_core_web_sm==2.2.5) (1.0.5)\n",
            "Requirement already satisfied: importlib-metadata>=0.20 in /usr/local/lib/python3.7/dist-packages (from catalogue<1.1.0,>=0.0.7->spacy>=2.2.2->en_core_web_sm==2.2.5) (4.11.3)\n",
            "Requirement already satisfied: zipp>=0.5 in /usr/local/lib/python3.7/dist-packages (from importlib-metadata>=0.20->catalogue<1.1.0,>=0.0.7->spacy>=2.2.2->en_core_web_sm==2.2.5) (3.8.0)\n",
            "Requirement already satisfied: typing-extensions>=3.6.4 in /usr/local/lib/python3.7/dist-packages (from importlib-metadata>=0.20->catalogue<1.1.0,>=0.0.7->spacy>=2.2.2->en_core_web_sm==2.2.5) (4.1.1)\n",
            "Requirement already satisfied: chardet<4,>=3.0.2 in /usr/local/lib/python3.7/dist-packages (from requests<3.0.0,>=2.13.0->spacy>=2.2.2->en_core_web_sm==2.2.5) (3.0.4)\n",
            "Requirement already satisfied: certifi>=2017.4.17 in /usr/local/lib/python3.7/dist-packages (from requests<3.0.0,>=2.13.0->spacy>=2.2.2->en_core_web_sm==2.2.5) (2021.10.8)\n",
            "Requirement already satisfied: urllib3!=1.25.0,!=1.25.1,<1.26,>=1.21.1 in /usr/local/lib/python3.7/dist-packages (from requests<3.0.0,>=2.13.0->spacy>=2.2.2->en_core_web_sm==2.2.5) (1.24.3)\n",
            "Requirement already satisfied: idna<3,>=2.5 in /usr/local/lib/python3.7/dist-packages (from requests<3.0.0,>=2.13.0->spacy>=2.2.2->en_core_web_sm==2.2.5) (2.10)\n",
            "\u001b[38;5;2m✔ Download and installation successful\u001b[0m\n",
            "You can now load the model via spacy.load('en_core_web_sm')\n"
          ]
        }
      ]
    },
    {
      "cell_type": "markdown",
      "source": [
        "## Cleaning and saving data"
      ],
      "metadata": {
        "id": "SjxhUC4tD75R"
      }
    },
    {
      "cell_type": "markdown",
      "source": [
        "We apply a very limited pre processing of the data. Basically, we only replace the line breaks with dots (to separate sentences)."
      ],
      "metadata": {
        "id": "q-TzvEsp10Sp"
      }
    },
    {
      "cell_type": "code",
      "source": [
        "def get_stopwords(add_words=[], keep_words=[]):\n",
        "    stopwords = set()\n",
        "    stopwords = stopwords.union( set(nltk.corpus.stopwords.words('english')) )\n",
        "    stopwords = stopwords.union(add_words)\n",
        "    stopwords = list(set(stopwords) - set(keep_words))\n",
        "    return sorted(list(set(stopwords)))\n",
        "\n",
        "def clean_text(txt):\n",
        "\n",
        "  ## Clean \n",
        "  ### separate sentences with '. '\n",
        "  txt = txt.replace('\\n',' . ')\n",
        "  txt = txt.replace(' .','.')\n",
        "  txt = txt.replace('..','.')\n",
        "  ### strip\n",
        "  txt = \" \".join([word.strip() for word in txt.split()])\n",
        "  return txt\n",
        "\n",
        "def preprocess_texts(df, column):\n",
        "    dfc = df.copy()\n",
        "    ## apply preprocess\n",
        "    dfc[column+'_cleaned'] = dfc[column].progress_apply(lambda x: clean_text(x))\n",
        "    \n",
        "    ## residuals\n",
        "    dfc[\"check\"] = dfc[column+'_cleaned'].progress_apply(lambda x: len(x))\n",
        "    if dfc[\"check\"].min() == 0:\n",
        "        print(f\"There is {len(dfc[dfc['check']==0])} nans\")\n",
        "        dfc = dfc[dfc[\"check\"]>0] \n",
        "            \n",
        "    return dfc.drop(\"check\", axis=1)"
      ],
      "metadata": {
        "id": "ZaBE9h5wDIwO"
      },
      "execution_count": 3,
      "outputs": []
    },
    {
      "cell_type": "code",
      "source": [
        "\n",
        "train_data = [dic for dic in dataset[\"train\"]]\n",
        "df_train = pd.DataFrame(train_data).rename(columns={\"article\":\"text\", \"highlights\":\"y\"})[[\"text\",\"y\"]]\n",
        "\n",
        "valid_data = [dic for dic in dataset[\"validation\"]]\n",
        "df_valid = pd.DataFrame(valid_data).rename(columns={\"article\":\"text\", \"highlights\":\"y\"})[[\"text\",\"y\"]]\n",
        "\n",
        "test_data = [dic for dic in dataset[\"test\"]]\n",
        "df_test = pd.DataFrame(test_data).rename(columns={\"article\":\"text\", \"highlights\":\"y\"})[[\"text\",\"y\"]]\n"
      ],
      "metadata": {
        "id": "IT4LxWh_COeJ"
      },
      "execution_count": null,
      "outputs": []
    },
    {
      "cell_type": "code",
      "source": [
        "df_train = preprocess_texts(df_train, 'text')\n",
        "df_train = preprocess_texts(df_train, 'y')\n",
        "df_train.to_csv('/content/gdrive/MyDrive/NLP/train.csv')\n",
        "\n",
        "df_valid = preprocess_texts(df_valid, 'text')\n",
        "df_valid = preprocess_texts(df_valid, 'y')\n",
        "df_valid.to_csv('/content/gdrive/MyDrive/NLP/valid.csv')\n",
        "\n",
        "df_test = preprocess_texts(df_test, 'text')\n",
        "df_test = preprocess_texts(df_test, 'y')\n",
        "df_test.to_csv('/content/gdrive/MyDrive/NLP/test.csv')"
      ],
      "metadata": {
        "id": "OLfWF88vDc3U",
        "colab": {
          "base_uri": "https://localhost:8080/"
        },
        "outputId": "bc3fb7b3-cf0d-43b1-9ea2-c761338175b9"
      },
      "execution_count": null,
      "outputs": [
        {
          "output_type": "stream",
          "name": "stderr",
          "text": [
            "100%|██████████| 287113/287113 [00:45<00:00, 6275.48it/s]\n",
            "100%|██████████| 287113/287113 [00:00<00:00, 555786.98it/s]\n",
            "100%|██████████| 287113/287113 [00:04<00:00, 68757.94it/s]\n",
            "100%|██████████| 287113/287113 [00:00<00:00, 584000.41it/s]\n",
            "100%|██████████| 13368/13368 [00:02<00:00, 6436.69it/s]\n",
            "100%|██████████| 13368/13368 [00:00<00:00, 457545.50it/s]\n",
            "100%|██████████| 13368/13368 [00:00<00:00, 60538.27it/s]\n",
            "100%|██████████| 13368/13368 [00:00<00:00, 550785.92it/s]\n",
            "100%|██████████| 13368/13368 [00:02<00:00, 5804.06it/s]\n",
            "100%|██████████| 13368/13368 [00:00<00:00, 494701.39it/s]\n",
            "100%|██████████| 13368/13368 [00:00<00:00, 45504.72it/s]\n",
            "100%|██████████| 13368/13368 [00:00<00:00, 351246.36it/s]\n"
          ]
        }
      ]
    },
    {
      "cell_type": "code",
      "source": [
        "print('Full Text (RAW)')\n",
        "print(df_train['text'][0],'\\n')\n",
        "print('Summary (RAW)')\n",
        "print(df_train['y'][0],'\\n')"
      ],
      "metadata": {
        "colab": {
          "base_uri": "https://localhost:8080/"
        },
        "id": "gyTnlmMDETOr",
        "outputId": "6341e96b-9a91-4efd-d0ed-7414050a479c"
      },
      "execution_count": null,
      "outputs": [
        {
          "output_type": "stream",
          "name": "stdout",
          "text": [
            "Full Text (RAW)\n",
            "It's official: U.S. President Barack Obama wants lawmakers to weigh in on whether to use military force in Syria. Obama sent a letter to the heads of the House and Senate on Saturday night, hours after announcing that he believes military action against Syrian targets is the right step to take over the alleged use of chemical weapons. The proposed legislation from Obama asks Congress to approve the use of military force \"to deter, disrupt, prevent and degrade the potential for future uses of chemical weapons or other weapons of mass destruction.\" It's a step that is set to turn an international crisis into a fierce domestic political battle. There are key questions looming over the debate: What did U.N. weapons inspectors find in Syria? What happens if Congress votes no? And how will the Syrian government react? In a televised address from the White House Rose Garden earlier Saturday, the president said he would take his case to Congress, not because he has to -- but because he wants to. \"While I believe I have the authority to carry out this military action without specific congressional authorization, I know that the country will be stronger if we take this course, and our actions will be even more effective,\" he said. \"We should have this debate, because the issues are too big for business as usual.\" Obama said top congressional leaders had agreed to schedule a debate when the body returns to Washington on September 9. The Senate Foreign Relations Committee will hold a hearing over the matter on Tuesday, Sen. Robert Menendez said. Transcript: Read Obama's full remarks . Syrian crisis: Latest developments . U.N. inspectors leave Syria . Obama's remarks came shortly after U.N. inspectors left Syria, carrying evidence that will determine whether chemical weapons were used in an attack early last week in a Damascus suburb. \"The aim of the game here, the mandate, is very clear -- and that is to ascertain whether chemical weapons were used -- and not by whom,\" U.N. spokesman Martin Nesirky told reporters on Saturday. But who used the weapons in the reported toxic gas attack in a Damascus suburb on August 21 has been a key point of global debate over the Syrian crisis. Top U.S. officials have said there's no doubt that the Syrian government was behind it, while Syrian officials have denied responsibility and blamed jihadists fighting with the rebels. British and U.S. intelligence reports say the attack involved chemical weapons, but U.N. officials have stressed the importance of waiting for an official report from inspectors. The inspectors will share their findings with U.N. Secretary-General Ban Ki-moon Ban, who has said he wants to wait until the U.N. team's final report is completed before presenting it to the U.N. Security Council. The Organization for the Prohibition of Chemical Weapons, which nine of the inspectors belong to, said Saturday that it could take up to three weeks to analyze the evidence they collected. \"It needs time to be able to analyze the information and the samples,\" Nesirky said. He noted that Ban has repeatedly said there is no alternative to a political solution to the crisis in Syria, and that \"a military solution is not an option.\" Bergen:  Syria is a problem from hell for the U.S. Obama: 'This menace must be confronted' Obama's senior advisers have debated the next steps to take, and the president's comments Saturday came amid mounting political pressure over the situation in Syria. Some U.S. lawmakers have called for immediate action while others warn of stepping into what could become a quagmire. Some global leaders have expressed support, but the British Parliament's vote against military action earlier this week was a blow to Obama's hopes of getting strong backing from key NATO allies. On Saturday, Obama proposed what he said would be a limited military action against Syrian President Bashar al-Assad. Any military attack would not be open-ended or include U.S. ground forces, he said. Syria's alleged use of chemical weapons earlier this month \"is an assault on human dignity,\" the president said. A failure to respond with force, Obama argued,  \"could lead to escalating use of chemical weapons or their proliferation to terrorist groups who would do our people harm. In a world with many dangers, this menace must be confronted.\" Syria missile strike: What would happen next? Map: U.S. and allied assets around Syria . Obama decision came Friday night . On Friday night, the president made a last-minute decision to consult lawmakers. What will happen if they vote no? It's unclear. A senior administration official told CNN that Obama has the authority to act without Congress -- even if Congress rejects his request for authorization to use force. Obama on Saturday continued to shore up support for a strike on the al-Assad government. He spoke by phone with French President Francois Hollande before his Rose Garden speech. \"The two leaders agreed that the international community must deliver a resolute message to the Assad regime -- and others who would consider using chemical weapons -- that these crimes are unacceptable and those who violate this international norm will be held accountable by the world,\" the White House said. Meanwhile, as uncertainty loomed over how Congress would weigh in, U.S. military officials said they remained at the ready. 5 key assertions: U.S. intelligence report on Syria . Syria: Who wants what after chemical weapons horror . Reactions mixed to Obama's speech . A spokesman for the Syrian National Coalition said that the opposition group was disappointed by Obama's announcement. \"Our fear now is that the lack of action could embolden the regime and they repeat his attacks in a more serious way,\" said spokesman Louay Safi. \"So we are quite concerned.\" Some members of Congress applauded Obama's decision. House Speaker John Boehner, Majority Leader Eric Cantor, Majority Whip Kevin McCarthy and Conference Chair Cathy McMorris Rodgers issued a statement Saturday praising the president. \"Under the Constitution, the responsibility to declare war lies with Congress,\" the Republican lawmakers said. \"We are glad the president is seeking authorization for any military action in Syria in response to serious, substantive questions being raised.\" More than 160 legislators, including 63 of Obama's fellow Democrats, had signed letters calling for either a vote or at least a \"full debate\" before any U.S. action. British Prime Minister David Cameron, whose own attempt to get lawmakers in his country to support military action in Syria failed earlier this week, responded to Obama's speech in a Twitter post Saturday. \"I understand and support Barack Obama's position on Syria,\" Cameron said. An influential lawmaker in Russia -- which has stood by Syria and criticized the United States -- had his own theory. \"The main reason Obama is turning to the Congress:  the military operation did not get enough support either in the world, among allies of the US or in the United States itself,\" Alexei Pushkov, chairman of the international-affairs committee of the Russian State Duma, said in a Twitter post. In the United States, scattered groups of anti-war protesters around the country took to the streets Saturday. \"Like many other Americans...we're just tired of the United States getting involved and invading and bombing other countries,\" said Robin Rosecrans, who was among hundreds at a Los Angeles demonstration. What do Syria's neighbors think? Why Russia, China, Iran stand by Assad . Syria's government unfazed . After Obama's speech, a military and political analyst on Syrian state TV said Obama is \"embarrassed\" that Russia opposes military action against Syria, is \"crying for help\" for someone to come to his rescue and is facing two defeats -- on the political and military levels. Syria's prime minister appeared unfazed by the saber-rattling. \"The Syrian Army's status is on maximum readiness and fingers are on the trigger to confront all challenges,\" Wael Nader al-Halqi said during a meeting with a delegation of Syrian expatriates from Italy, according to a banner on Syria State TV that was broadcast prior to Obama's address. An anchor on Syrian state television said Obama \"appeared to be preparing for an aggression on Syria based on repeated lies.\" A top Syrian diplomat told the state television network that Obama was facing pressure to take military action from Israel, Turkey, some Arabs and right-wing extremists in the United States. \"I think he has done well by doing what Cameron did in terms of taking the issue to Parliament,\" said Bashar Jaafari, Syria's ambassador to the United Nations. Both Obama and Cameron, he said, \"climbed to the top of the tree and don't know how to get down.\" The Syrian government has denied that it used chemical weapons in the August 21 attack, saying that jihadists fighting with the rebels used them in an effort to turn global sentiments against it. British intelligence had put the number of people killed in the attack at more than 350. On Saturday, Obama said \"all told, well over 1,000 people were murdered.\" U.S. Secretary of State John Kerry on Friday cited a death toll of 1,429, more than 400 of them children. No explanation was offered for the discrepancy. Iran: U.S. military action in Syria would spark 'disaster' Opinion: Why strikes in Syria are a bad idea . \n",
            "\n",
            "Summary (RAW)\n",
            "Syrian official: Obama climbed to the top of the tree, \"doesn't know how to get down\"\n",
            "Obama sends a letter to the heads of the House and Senate .\n",
            "Obama to seek congressional approval on military action against Syria .\n",
            "Aim is to determine whether CW were used, not by whom, says U.N. spokesman . \n",
            "\n"
          ]
        }
      ]
    },
    {
      "cell_type": "code",
      "source": [
        "print('Full Text (Cleaned)')\n",
        "print(df_train['text_cleaned'][0],'\\n')\n",
        "print('Summary (Cleaned)')\n",
        "print(df_train['y_cleaned'][0],'\\n')"
      ],
      "metadata": {
        "colab": {
          "base_uri": "https://localhost:8080/"
        },
        "id": "skGDkxR0Dzva",
        "outputId": "78837aa1-ad04-457b-b496-7bcfb4429e9b"
      },
      "execution_count": null,
      "outputs": [
        {
          "output_type": "stream",
          "name": "stdout",
          "text": [
            "Full Text (Cleaned)\n",
            "It's official: U.S. President Barack Obama wants lawmakers to weigh in on whether to use military force in Syria. Obama sent a letter to the heads of the House and Senate on Saturday night, hours after announcing that he believes military action against Syrian targets is the right step to take over the alleged use of chemical weapons. The proposed legislation from Obama asks Congress to approve the use of military force \"to deter, disrupt, prevent and degrade the potential for future uses of chemical weapons or other weapons of mass destruction.\" It's a step that is set to turn an international crisis into a fierce domestic political battle. There are key questions looming over the debate: What did U.N. weapons inspectors find in Syria? What happens if Congress votes no? And how will the Syrian government react? In a televised address from the White House Rose Garden earlier Saturday, the president said he would take his case to Congress, not because he has to -- but because he wants to. \"While I believe I have the authority to carry out this military action without specific congressional authorization, I know that the country will be stronger if we take this course, and our actions will be even more effective,\" he said. \"We should have this debate, because the issues are too big for business as usual.\" Obama said top congressional leaders had agreed to schedule a debate when the body returns to Washington on September 9. The Senate Foreign Relations Committee will hold a hearing over the matter on Tuesday, Sen. Robert Menendez said. Transcript: Read Obama's full remarks. Syrian crisis: Latest developments. U.N. inspectors leave Syria. Obama's remarks came shortly after U.N. inspectors left Syria, carrying evidence that will determine whether chemical weapons were used in an attack early last week in a Damascus suburb. \"The aim of the game here, the mandate, is very clear -- and that is to ascertain whether chemical weapons were used -- and not by whom,\" U.N. spokesman Martin Nesirky told reporters on Saturday. But who used the weapons in the reported toxic gas attack in a Damascus suburb on August 21 has been a key point of global debate over the Syrian crisis. Top U.S. officials have said there's no doubt that the Syrian government was behind it, while Syrian officials have denied responsibility and blamed jihadists fighting with the rebels. British and U.S. intelligence reports say the attack involved chemical weapons, but U.N. officials have stressed the importance of waiting for an official report from inspectors. The inspectors will share their findings with U.N. Secretary-General Ban Ki-moon Ban, who has said he wants to wait until the U.N. team's final report is completed before presenting it to the U.N. Security Council. The Organization for the Prohibition of Chemical Weapons, which nine of the inspectors belong to, said Saturday that it could take up to three weeks to analyze the evidence they collected. \"It needs time to be able to analyze the information and the samples,\" Nesirky said. He noted that Ban has repeatedly said there is no alternative to a political solution to the crisis in Syria, and that \"a military solution is not an option.\" Bergen: Syria is a problem from hell for the U.S. Obama: 'This menace must be confronted' Obama's senior advisers have debated the next steps to take, and the president's comments Saturday came amid mounting political pressure over the situation in Syria. Some U.S. lawmakers have called for immediate action while others warn of stepping into what could become a quagmire. Some global leaders have expressed support, but the British Parliament's vote against military action earlier this week was a blow to Obama's hopes of getting strong backing from key NATO allies. On Saturday, Obama proposed what he said would be a limited military action against Syrian President Bashar al-Assad. Any military attack would not be open-ended or include U.S. ground forces, he said. Syria's alleged use of chemical weapons earlier this month \"is an assault on human dignity,\" the president said. A failure to respond with force, Obama argued, \"could lead to escalating use of chemical weapons or their proliferation to terrorist groups who would do our people harm. In a world with many dangers, this menace must be confronted.\" Syria missile strike: What would happen next? Map: U.S. and allied assets around Syria. Obama decision came Friday night. On Friday night, the president made a last-minute decision to consult lawmakers. What will happen if they vote no? It's unclear. A senior administration official told CNN that Obama has the authority to act without Congress -- even if Congress rejects his request for authorization to use force. Obama on Saturday continued to shore up support for a strike on the al-Assad government. He spoke by phone with French President Francois Hollande before his Rose Garden speech. \"The two leaders agreed that the international community must deliver a resolute message to the Assad regime -- and others who would consider using chemical weapons -- that these crimes are unacceptable and those who violate this international norm will be held accountable by the world,\" the White House said. Meanwhile, as uncertainty loomed over how Congress would weigh in, U.S. military officials said they remained at the ready. 5 key assertions: U.S. intelligence report on Syria. Syria: Who wants what after chemical weapons horror. Reactions mixed to Obama's speech. A spokesman for the Syrian National Coalition said that the opposition group was disappointed by Obama's announcement. \"Our fear now is that the lack of action could embolden the regime and they repeat his attacks in a more serious way,\" said spokesman Louay Safi. \"So we are quite concerned.\" Some members of Congress applauded Obama's decision. House Speaker John Boehner, Majority Leader Eric Cantor, Majority Whip Kevin McCarthy and Conference Chair Cathy McMorris Rodgers issued a statement Saturday praising the president. \"Under the Constitution, the responsibility to declare war lies with Congress,\" the Republican lawmakers said. \"We are glad the president is seeking authorization for any military action in Syria in response to serious, substantive questions being raised.\" More than 160 legislators, including 63 of Obama's fellow Democrats, had signed letters calling for either a vote or at least a \"full debate\" before any U.S. action. British Prime Minister David Cameron, whose own attempt to get lawmakers in his country to support military action in Syria failed earlier this week, responded to Obama's speech in a Twitter post Saturday. \"I understand and support Barack Obama's position on Syria,\" Cameron said. An influential lawmaker in Russia -- which has stood by Syria and criticized the United States -- had his own theory. \"The main reason Obama is turning to the Congress: the military operation did not get enough support either in the world, among allies of the US or in the United States itself,\" Alexei Pushkov, chairman of the international-affairs committee of the Russian State Duma, said in a Twitter post. In the United States, scattered groups of anti-war protesters around the country took to the streets Saturday. \"Like many other Americans..we're just tired of the United States getting involved and invading and bombing other countries,\" said Robin Rosecrans, who was among hundreds at a Los Angeles demonstration. What do Syria's neighbors think? Why Russia, China, Iran stand by Assad. Syria's government unfazed. After Obama's speech, a military and political analyst on Syrian state TV said Obama is \"embarrassed\" that Russia opposes military action against Syria, is \"crying for help\" for someone to come to his rescue and is facing two defeats -- on the political and military levels. Syria's prime minister appeared unfazed by the saber-rattling. \"The Syrian Army's status is on maximum readiness and fingers are on the trigger to confront all challenges,\" Wael Nader al-Halqi said during a meeting with a delegation of Syrian expatriates from Italy, according to a banner on Syria State TV that was broadcast prior to Obama's address. An anchor on Syrian state television said Obama \"appeared to be preparing for an aggression on Syria based on repeated lies.\" A top Syrian diplomat told the state television network that Obama was facing pressure to take military action from Israel, Turkey, some Arabs and right-wing extremists in the United States. \"I think he has done well by doing what Cameron did in terms of taking the issue to Parliament,\" said Bashar Jaafari, Syria's ambassador to the United Nations. Both Obama and Cameron, he said, \"climbed to the top of the tree and don't know how to get down.\" The Syrian government has denied that it used chemical weapons in the August 21 attack, saying that jihadists fighting with the rebels used them in an effort to turn global sentiments against it. British intelligence had put the number of people killed in the attack at more than 350. On Saturday, Obama said \"all told, well over 1,000 people were murdered.\" U.S. Secretary of State John Kerry on Friday cited a death toll of 1,429, more than 400 of them children. No explanation was offered for the discrepancy. Iran: U.S. military action in Syria would spark 'disaster' Opinion: Why strikes in Syria are a bad idea. \n",
            "\n",
            "Summary (Cleaned)\n",
            "Syrian official: Obama climbed to the top of the tree, \"doesn't know how to get down\". Obama sends a letter to the heads of the House and Senate. Obama to seek congressional approval on military action against Syria. Aim is to determine whether CW were used, not by whom, says U.N. spokesman. \n",
            "\n"
          ]
        }
      ]
    },
    {
      "cell_type": "markdown",
      "source": [
        "## Data Exploration"
      ],
      "metadata": {
        "id": "jHU11xpXE8r7"
      }
    },
    {
      "cell_type": "code",
      "source": [
        "df_train.head()"
      ],
      "metadata": {
        "colab": {
          "base_uri": "https://localhost:8080/",
          "height": 206
        },
        "id": "TW1bHeqTS5VW",
        "outputId": "2ffc4a5c-7df5-4998-8e9d-452a5505d6ae"
      },
      "execution_count": 33,
      "outputs": [
        {
          "output_type": "execute_result",
          "data": {
            "text/plain": [
              "   Unnamed: 0                                               text  \\\n",
              "0           0  It's official: U.S. President Barack Obama wan...   \n",
              "1           1  (CNN) -- Usain Bolt rounded off the world cham...   \n",
              "2           2  Kansas City, Missouri (CNN) -- The General Ser...   \n",
              "3           3  Los Angeles (CNN) -- A medical doctor in Vanco...   \n",
              "4           4  (CNN) -- Police arrested another teen Thursday...   \n",
              "\n",
              "                                                   y  \\\n",
              "0  Syrian official: Obama climbed to the top of t...   \n",
              "1  Usain Bolt wins third gold of world championsh...   \n",
              "2  The employee in agency's Kansas City office is...   \n",
              "3  NEW: A Canadian doctor says she was part of a ...   \n",
              "4  Another arrest made in gang rape outside Calif...   \n",
              "\n",
              "                                        text_cleaned  \\\n",
              "0  It's official: U.S. President Barack Obama wan...   \n",
              "1  (CNN) -- Usain Bolt rounded off the world cham...   \n",
              "2  Kansas City, Missouri (CNN) -- The General Ser...   \n",
              "3  Los Angeles (CNN) -- A medical doctor in Vanco...   \n",
              "4  (CNN) -- Police arrested another teen Thursday...   \n",
              "\n",
              "                                           y_cleaned  \n",
              "0  Syrian official: Obama climbed to the top of t...  \n",
              "1  Usain Bolt wins third gold of world championsh...  \n",
              "2  The employee in agency's Kansas City office is...  \n",
              "3  NEW: A Canadian doctor says she was part of a ...  \n",
              "4  Another arrest made in gang rape outside Calif...  "
            ],
            "text/html": [
              "\n",
              "  <div id=\"df-b16926db-e7ef-458a-9573-6206dd872c58\">\n",
              "    <div class=\"colab-df-container\">\n",
              "      <div>\n",
              "<style scoped>\n",
              "    .dataframe tbody tr th:only-of-type {\n",
              "        vertical-align: middle;\n",
              "    }\n",
              "\n",
              "    .dataframe tbody tr th {\n",
              "        vertical-align: top;\n",
              "    }\n",
              "\n",
              "    .dataframe thead th {\n",
              "        text-align: right;\n",
              "    }\n",
              "</style>\n",
              "<table border=\"1\" class=\"dataframe\">\n",
              "  <thead>\n",
              "    <tr style=\"text-align: right;\">\n",
              "      <th></th>\n",
              "      <th>Unnamed: 0</th>\n",
              "      <th>text</th>\n",
              "      <th>y</th>\n",
              "      <th>text_cleaned</th>\n",
              "      <th>y_cleaned</th>\n",
              "    </tr>\n",
              "  </thead>\n",
              "  <tbody>\n",
              "    <tr>\n",
              "      <th>0</th>\n",
              "      <td>0</td>\n",
              "      <td>It's official: U.S. President Barack Obama wan...</td>\n",
              "      <td>Syrian official: Obama climbed to the top of t...</td>\n",
              "      <td>It's official: U.S. President Barack Obama wan...</td>\n",
              "      <td>Syrian official: Obama climbed to the top of t...</td>\n",
              "    </tr>\n",
              "    <tr>\n",
              "      <th>1</th>\n",
              "      <td>1</td>\n",
              "      <td>(CNN) -- Usain Bolt rounded off the world cham...</td>\n",
              "      <td>Usain Bolt wins third gold of world championsh...</td>\n",
              "      <td>(CNN) -- Usain Bolt rounded off the world cham...</td>\n",
              "      <td>Usain Bolt wins third gold of world championsh...</td>\n",
              "    </tr>\n",
              "    <tr>\n",
              "      <th>2</th>\n",
              "      <td>2</td>\n",
              "      <td>Kansas City, Missouri (CNN) -- The General Ser...</td>\n",
              "      <td>The employee in agency's Kansas City office is...</td>\n",
              "      <td>Kansas City, Missouri (CNN) -- The General Ser...</td>\n",
              "      <td>The employee in agency's Kansas City office is...</td>\n",
              "    </tr>\n",
              "    <tr>\n",
              "      <th>3</th>\n",
              "      <td>3</td>\n",
              "      <td>Los Angeles (CNN) -- A medical doctor in Vanco...</td>\n",
              "      <td>NEW: A Canadian doctor says she was part of a ...</td>\n",
              "      <td>Los Angeles (CNN) -- A medical doctor in Vanco...</td>\n",
              "      <td>NEW: A Canadian doctor says she was part of a ...</td>\n",
              "    </tr>\n",
              "    <tr>\n",
              "      <th>4</th>\n",
              "      <td>4</td>\n",
              "      <td>(CNN) -- Police arrested another teen Thursday...</td>\n",
              "      <td>Another arrest made in gang rape outside Calif...</td>\n",
              "      <td>(CNN) -- Police arrested another teen Thursday...</td>\n",
              "      <td>Another arrest made in gang rape outside Calif...</td>\n",
              "    </tr>\n",
              "  </tbody>\n",
              "</table>\n",
              "</div>\n",
              "      <button class=\"colab-df-convert\" onclick=\"convertToInteractive('df-b16926db-e7ef-458a-9573-6206dd872c58')\"\n",
              "              title=\"Convert this dataframe to an interactive table.\"\n",
              "              style=\"display:none;\">\n",
              "        \n",
              "  <svg xmlns=\"http://www.w3.org/2000/svg\" height=\"24px\"viewBox=\"0 0 24 24\"\n",
              "       width=\"24px\">\n",
              "    <path d=\"M0 0h24v24H0V0z\" fill=\"none\"/>\n",
              "    <path d=\"M18.56 5.44l.94 2.06.94-2.06 2.06-.94-2.06-.94-.94-2.06-.94 2.06-2.06.94zm-11 1L8.5 8.5l.94-2.06 2.06-.94-2.06-.94L8.5 2.5l-.94 2.06-2.06.94zm10 10l.94 2.06.94-2.06 2.06-.94-2.06-.94-.94-2.06-.94 2.06-2.06.94z\"/><path d=\"M17.41 7.96l-1.37-1.37c-.4-.4-.92-.59-1.43-.59-.52 0-1.04.2-1.43.59L10.3 9.45l-7.72 7.72c-.78.78-.78 2.05 0 2.83L4 21.41c.39.39.9.59 1.41.59.51 0 1.02-.2 1.41-.59l7.78-7.78 2.81-2.81c.8-.78.8-2.07 0-2.86zM5.41 20L4 18.59l7.72-7.72 1.47 1.35L5.41 20z\"/>\n",
              "  </svg>\n",
              "      </button>\n",
              "      \n",
              "  <style>\n",
              "    .colab-df-container {\n",
              "      display:flex;\n",
              "      flex-wrap:wrap;\n",
              "      gap: 12px;\n",
              "    }\n",
              "\n",
              "    .colab-df-convert {\n",
              "      background-color: #E8F0FE;\n",
              "      border: none;\n",
              "      border-radius: 50%;\n",
              "      cursor: pointer;\n",
              "      display: none;\n",
              "      fill: #1967D2;\n",
              "      height: 32px;\n",
              "      padding: 0 0 0 0;\n",
              "      width: 32px;\n",
              "    }\n",
              "\n",
              "    .colab-df-convert:hover {\n",
              "      background-color: #E2EBFA;\n",
              "      box-shadow: 0px 1px 2px rgba(60, 64, 67, 0.3), 0px 1px 3px 1px rgba(60, 64, 67, 0.15);\n",
              "      fill: #174EA6;\n",
              "    }\n",
              "\n",
              "    [theme=dark] .colab-df-convert {\n",
              "      background-color: #3B4455;\n",
              "      fill: #D2E3FC;\n",
              "    }\n",
              "\n",
              "    [theme=dark] .colab-df-convert:hover {\n",
              "      background-color: #434B5C;\n",
              "      box-shadow: 0px 1px 3px 1px rgba(0, 0, 0, 0.15);\n",
              "      filter: drop-shadow(0px 1px 2px rgba(0, 0, 0, 0.3));\n",
              "      fill: #FFFFFF;\n",
              "    }\n",
              "  </style>\n",
              "\n",
              "      <script>\n",
              "        const buttonEl =\n",
              "          document.querySelector('#df-b16926db-e7ef-458a-9573-6206dd872c58 button.colab-df-convert');\n",
              "        buttonEl.style.display =\n",
              "          google.colab.kernel.accessAllowed ? 'block' : 'none';\n",
              "\n",
              "        async function convertToInteractive(key) {\n",
              "          const element = document.querySelector('#df-b16926db-e7ef-458a-9573-6206dd872c58');\n",
              "          const dataTable =\n",
              "            await google.colab.kernel.invokeFunction('convertToInteractive',\n",
              "                                                     [key], {});\n",
              "          if (!dataTable) return;\n",
              "\n",
              "          const docLinkHtml = 'Like what you see? Visit the ' +\n",
              "            '<a target=\"_blank\" href=https://colab.research.google.com/notebooks/data_table.ipynb>data table notebook</a>'\n",
              "            + ' to learn more about interactive tables.';\n",
              "          element.innerHTML = '';\n",
              "          dataTable['output_type'] = 'display_data';\n",
              "          await google.colab.output.renderOutput(dataTable, element);\n",
              "          const docLink = document.createElement('div');\n",
              "          docLink.innerHTML = docLinkHtml;\n",
              "          element.appendChild(docLink);\n",
              "        }\n",
              "      </script>\n",
              "    </div>\n",
              "  </div>\n",
              "  "
            ]
          },
          "metadata": {},
          "execution_count": 33
        }
      ]
    },
    {
      "cell_type": "markdown",
      "source": [
        "#### Word and Sentence Counts"
      ],
      "metadata": {
        "id": "tzDbxoO7J_VX"
      }
    },
    {
      "cell_type": "code",
      "source": [
        "def get_word_sent_counts(df):\n",
        "    \"\"\"Calculates number of words and sentences in the given corpus\"\"\"\n",
        "    tokenizer = get_tokenizer('spacy', language='en_core_web_sm')\n",
        "    \n",
        "    df['word_count_text'] = df['text_cleaned'].progress_apply(lambda x: len(tokenizer(str(x))) )\n",
        "    df['sentence_count_text'] = df['text_cleaned'].progress_apply(lambda x: len(nltk.sent_tokenize(str(x))) )\n",
        "\n",
        "    df['word_count_y'] = df['y_cleaned'].progress_apply(lambda x: len(tokenizer(str(x))) )\n",
        "    df['sentence_count_y'] = df['y_cleaned'].progress_apply(lambda x: len(nltk.sent_tokenize(str(x))) )\n",
        "\n",
        "    return df\n",
        "\n",
        "print('Tokenizing train data ....')\n",
        "counts_train = get_word_sent_counts(df_train)\n",
        "print('Tokenizing validation data ....')\n",
        "counts_valid = get_word_sent_counts(df_valid)\n",
        "print('Tokenizing test data ....')\n",
        "counts_test = get_word_sent_counts(df_test)\n"
      ],
      "metadata": {
        "id": "sTVxLI54KW5W"
      },
      "execution_count": null,
      "outputs": []
    },
    {
      "cell_type": "code",
      "source": [
        "features = counts_train.columns[-4:]\n",
        "counts_train[features].to_csv('/content/gdrive/MyDrive/NLP/train_counts.csv', index = False)\n",
        "counts_valid[features].to_csv('/content/gdrive/MyDrive/NLP/valid_counts.csv', index = False)\n",
        "counts_test[features].to_csv('/content/gdrive/MyDrive/NLP/test_counts.csv', index = False)\n"
      ],
      "metadata": {
        "id": "wlRqU9OxsUJG"
      },
      "execution_count": null,
      "outputs": []
    },
    {
      "cell_type": "code",
      "source": [
        "counts_train = pd.read_csv('/content/gdrive/MyDrive/NLP/train_counts.csv')\n",
        "counts_valid = pd.read_csv('/content/gdrive/MyDrive/NLP/valid_counts.csv')\n",
        "counts_test = pd.read_csv('/content/gdrive/MyDrive/NLP/test_counts.csv')"
      ],
      "metadata": {
        "id": "STWo6wIeO2bC"
      },
      "execution_count": 6,
      "outputs": []
    },
    {
      "cell_type": "code",
      "source": [
        "fig, ax = plt.subplots(nrows = 2, ncols = 2, figsize = (8,6))\n",
        "\n",
        "sns.histplot(counts_train['word_count_text'].append(counts_valid['word_count_text']), ax =ax[0,0])\n",
        "ax[0,0].set_title('Train + Valid - Texts')\n",
        "sns.histplot(counts_test['word_count_text'], ax =ax[0,1])\n",
        "ax[0,1].set_title('Test - Texts')\n",
        "\n",
        "sns.histplot(counts_train['word_count_y'].append(counts_valid['word_count_y']), ax =ax[1,0])\n",
        "ax[1,0].set_title('Train + Valid - Summaries')\n",
        "ax[1,0].set_xlim(-5, 200)\n",
        "\n",
        "sns.histplot(counts_test['word_count_y'], ax =ax[1,1])\n",
        "ax[1,1].set_title('Test - Summaries')\n",
        "\n",
        "ax[1,1].set_xlim(-5, 200)\n",
        "ax[0,0].set_ylabel('Density')\n",
        "ax[0,0].set_xlabel('Number of words')\n",
        "ax[0,1].set_xlabel('Number of words')\n",
        "ax[1,0].set_xlabel('Number of words')\n",
        "ax[1,1].set_xlabel('Number of words')\n",
        "plt.tight_layout()\n",
        "plt.savefig('/content/gdrive/MyDrive/NLP/words_plot.png', dpi = 600)"
      ],
      "metadata": {
        "colab": {
          "base_uri": "https://localhost:8080/",
          "height": 441
        },
        "id": "45xzPFfvKut-",
        "outputId": "b01c30cd-fbcc-4538-81cd-665937ae4c44"
      },
      "execution_count": 19,
      "outputs": [
        {
          "output_type": "display_data",
          "data": {
            "text/plain": [
              "<Figure size 576x432 with 4 Axes>"
            ],
            "image/png": "[encoded data removed]"
          },
          "metadata": {
            "needs_background": "light"
          }
        }
      ]
    },
    {
      "cell_type": "code",
      "source": [
        "fig, ax = plt.subplots(nrows = 2, ncols = 2, figsize = (8,6))\n",
        "\n",
        "sns.histplot(counts_train['sentence_count_text'].append(counts_valid['sentence_count_text']), ax =ax[0,0])\n",
        "ax[0,0].set_title('Train + Valid- Articles')\n",
        "ax[0,0].set_xlim(-5, 150)\n",
        "\n",
        "sns.histplot(counts_test['sentence_count_text'], ax =ax[0,1])\n",
        "ax[0,1].set_title('Test - Articles')\n",
        "ax[0,1].set_xlim(-5, 150)\n",
        "\n",
        "sns.histplot(counts_train['sentence_count_y'].append(counts_valid['sentence_count_y']), ax =ax[1,0])\n",
        "ax[1,0].set_title('Train + Valid - Summaries')\n",
        "\n",
        "sns.histplot(counts_test['sentence_count_y'], ax =ax[1,1])\n",
        "ax[1,0].set_xlim(-5, 10)\n",
        "ax[1,1].set_title('Test - Summaries')\n",
        "\n",
        "ax[1,1].set_xlim(-5, 10)\n",
        "ax[0,0].set_ylabel('Density')\n",
        "ax[1,0].set_xlabel('Number of Sentences')\n",
        "ax[1,1].set_xlabel('Number of Sentences')\n",
        "ax[0,0].set_xlabel('Number of Sentences')\n",
        "ax[0,1].set_xlabel('Number of Sentences')\n",
        "plt.tight_layout()\n",
        "plt.savefig(\"/content/gdrive/MyDrive/NLP/sentence_plot.png\", dpi = 600)"
      ],
      "metadata": {
        "colab": {
          "base_uri": "https://localhost:8080/",
          "height": 441
        },
        "id": "ktdsA3LZRRmZ",
        "outputId": "473ad881-e560-4409-d6fc-be2db048af5c"
      },
      "execution_count": 18,
      "outputs": [
        {
          "output_type": "display_data",
          "data": {
            "text/plain": [
              "<Figure size 576x432 with 4 Axes>"
            ],
            "image/png": "[encoded data removed]"
          },
          "metadata": {
            "needs_background": "light"
          }
        }
      ]
    },
    {
      "cell_type": "code",
      "source": [
        "mean_words_tr_val = counts_train['word_count_text'].append(counts_valid['word_count_text']).mean()\n",
        "mean_words_test = counts_test['word_count_text'].mean()\n",
        "mean_words_tr_val_sum = counts_train['word_count_y'].append(counts_valid['word_count_y']).mean()\n",
        "mean_words_test_sum = counts_test['word_count_y'].mean()\n",
        "\n",
        "mean_sent_tr_val = counts_train['sentence_count_text'].append(counts_valid['sentence_count_text']).mean()\n",
        "mean_sent_test = counts_test['sentence_count_text'].mean()\n",
        "mean_sent_tr_val_sum = counts_train['sentence_count_y'].append(counts_valid['sentence_count_y']).mean()\n",
        "mean_sent_test_sum = counts_test['sentence_count_y'].mean()\n",
        "\n",
        "res_table = pd.DataFrame({\n",
        "    '# documents' : [(counts_train.shape[0], counts_valid.shape[0]), counts_test.shape[0]],\n",
        "    'avg # words in article' : [round(mean_words_tr_val,2), round(mean_words_test,2)], \n",
        "    'avg # sent in article' : [round(mean_sent_tr_val,2), round(mean_sent_test,2)],\n",
        "    'avg # words in summary' : [round(mean_words_tr_val_sum,2), round(mean_words_test_sum,2)], \n",
        "    'avg # sent in summary' : [round(mean_sent_tr_val_sum,2), round(mean_sent_test_sum,2)]\n",
        "}, index = ['Train + Valid', 'Test'])\n",
        "res_table.T"
      ],
      "metadata": {
        "colab": {
          "base_uri": "https://localhost:8080/",
          "height": 112
        },
        "id": "oq3CHuVGUgSI",
        "outputId": "5e42d6cd-26d9-4f88-81ac-3e6f5eac8f56"
      },
      "execution_count": 32,
      "outputs": [
        {
          "output_type": "execute_result",
          "data": {
            "text/plain": [
              "                   # documents  avg # words in article  avg # sent in article  \\\n",
              "Train + Valid  (287113, 13368)                  802.84                  38.57   \n",
              "Test                     11490                  791.39                  33.33   \n",
              "\n",
              "               avg # words in summary  avg # sent in summary  \n",
              "Train + Valid                   56.78                   3.84  \n",
              "Test                            59.81                   3.92  "
            ],
            "text/html": [
              "\n",
              "  <div id=\"df-8111fef8-2a46-48b8-998d-7dbce03636d3\">\n",
              "    <div class=\"colab-df-container\">\n",
              "      <div>\n",
              "<style scoped>\n",
              "    .dataframe tbody tr th:only-of-type {\n",
              "        vertical-align: middle;\n",
              "    }\n",
              "\n",
              "    .dataframe tbody tr th {\n",
              "        vertical-align: top;\n",
              "    }\n",
              "\n",
              "    .dataframe thead th {\n",
              "        text-align: right;\n",
              "    }\n",
              "</style>\n",
              "<table border=\"1\" class=\"dataframe\">\n",
              "  <thead>\n",
              "    <tr style=\"text-align: right;\">\n",
              "      <th></th>\n",
              "      <th># documents</th>\n",
              "      <th>avg # words in article</th>\n",
              "      <th>avg # sent in article</th>\n",
              "      <th>avg # words in summary</th>\n",
              "      <th>avg # sent in summary</th>\n",
              "    </tr>\n",
              "  </thead>\n",
              "  <tbody>\n",
              "    <tr>\n",
              "      <th>Train + Valid</th>\n",
              "      <td>(287113, 13368)</td>\n",
              "      <td>802.84</td>\n",
              "      <td>38.57</td>\n",
              "      <td>56.78</td>\n",
              "      <td>3.84</td>\n",
              "    </tr>\n",
              "    <tr>\n",
              "      <th>Test</th>\n",
              "      <td>11490</td>\n",
              "      <td>791.39</td>\n",
              "      <td>33.33</td>\n",
              "      <td>59.81</td>\n",
              "      <td>3.92</td>\n",
              "    </tr>\n",
              "  </tbody>\n",
              "</table>\n",
              "</div>\n",
              "      <button class=\"colab-df-convert\" onclick=\"convertToInteractive('df-8111fef8-2a46-48b8-998d-7dbce03636d3')\"\n",
              "              title=\"Convert this dataframe to an interactive table.\"\n",
              "              style=\"display:none;\">\n",
              "        \n",
              "  <svg xmlns=\"http://www.w3.org/2000/svg\" height=\"24px\"viewBox=\"0 0 24 24\"\n",
              "       width=\"24px\">\n",
              "    <path d=\"M0 0h24v24H0V0z\" fill=\"none\"/>\n",
              "    <path d=\"M18.56 5.44l.94 2.06.94-2.06 2.06-.94-2.06-.94-.94-2.06-.94 2.06-2.06.94zm-11 1L8.5 8.5l.94-2.06 2.06-.94-2.06-.94L8.5 2.5l-.94 2.06-2.06.94zm10 10l.94 2.06.94-2.06 2.06-.94-2.06-.94-.94-2.06-.94 2.06-2.06.94z\"/><path d=\"M17.41 7.96l-1.37-1.37c-.4-.4-.92-.59-1.43-.59-.52 0-1.04.2-1.43.59L10.3 9.45l-7.72 7.72c-.78.78-.78 2.05 0 2.83L4 21.41c.39.39.9.59 1.41.59.51 0 1.02-.2 1.41-.59l7.78-7.78 2.81-2.81c.8-.78.8-2.07 0-2.86zM5.41 20L4 18.59l7.72-7.72 1.47 1.35L5.41 20z\"/>\n",
              "  </svg>\n",
              "      </button>\n",
              "      \n",
              "  <style>\n",
              "    .colab-df-container {\n",
              "      display:flex;\n",
              "      flex-wrap:wrap;\n",
              "      gap: 12px;\n",
              "    }\n",
              "\n",
              "    .colab-df-convert {\n",
              "      background-color: #E8F0FE;\n",
              "      border: none;\n",
              "      border-radius: 50%;\n",
              "      cursor: pointer;\n",
              "      display: none;\n",
              "      fill: #1967D2;\n",
              "      height: 32px;\n",
              "      padding: 0 0 0 0;\n",
              "      width: 32px;\n",
              "    }\n",
              "\n",
              "    .colab-df-convert:hover {\n",
              "      background-color: #E2EBFA;\n",
              "      box-shadow: 0px 1px 2px rgba(60, 64, 67, 0.3), 0px 1px 3px 1px rgba(60, 64, 67, 0.15);\n",
              "      fill: #174EA6;\n",
              "    }\n",
              "\n",
              "    [theme=dark] .colab-df-convert {\n",
              "      background-color: #3B4455;\n",
              "      fill: #D2E3FC;\n",
              "    }\n",
              "\n",
              "    [theme=dark] .colab-df-convert:hover {\n",
              "      background-color: #434B5C;\n",
              "      box-shadow: 0px 1px 3px 1px rgba(0, 0, 0, 0.15);\n",
              "      filter: drop-shadow(0px 1px 2px rgba(0, 0, 0, 0.3));\n",
              "      fill: #FFFFFF;\n",
              "    }\n",
              "  </style>\n",
              "\n",
              "      <script>\n",
              "        const buttonEl =\n",
              "          document.querySelector('#df-8111fef8-2a46-48b8-998d-7dbce03636d3 button.colab-df-convert');\n",
              "        buttonEl.style.display =\n",
              "          google.colab.kernel.accessAllowed ? 'block' : 'none';\n",
              "\n",
              "        async function convertToInteractive(key) {\n",
              "          const element = document.querySelector('#df-8111fef8-2a46-48b8-998d-7dbce03636d3');\n",
              "          const dataTable =\n",
              "            await google.colab.kernel.invokeFunction('convertToInteractive',\n",
              "                                                     [key], {});\n",
              "          if (!dataTable) return;\n",
              "\n",
              "          const docLinkHtml = 'Like what you see? Visit the ' +\n",
              "            '<a target=\"_blank\" href=https://colab.research.google.com/notebooks/data_table.ipynb>data table notebook</a>'\n",
              "            + ' to learn more about interactive tables.';\n",
              "          element.innerHTML = '';\n",
              "          dataTable['output_type'] = 'display_data';\n",
              "          await google.colab.output.renderOutput(dataTable, element);\n",
              "          const docLink = document.createElement('div');\n",
              "          docLink.innerHTML = docLinkHtml;\n",
              "          element.appendChild(docLink);\n",
              "        }\n",
              "      </script>\n",
              "    </div>\n",
              "  </div>\n",
              "  "
            ]
          },
          "metadata": {},
          "execution_count": 32
        }
      ]
    },
    {
      "cell_type": "code",
      "source": [
        "print(res_table.T.to_latex())"
      ],
      "metadata": {
        "colab": {
          "base_uri": "https://localhost:8080/"
        },
        "id": "-7GAm_hvWyA6",
        "outputId": "6cacf29d-0cbe-4a49-ff9b-fe6f0b836ae4"
      },
      "execution_count": 33,
      "outputs": [
        {
          "output_type": "stream",
          "name": "stdout",
          "text": [
            "\\begin{tabular}{llrrrr}\n",
            "\\toprule\n",
            "{} &      \\# documents &  avg \\# words in article &  avg \\# sent in article &  avg \\# words in summary &  avg \\# sent in summary \\\\\n",
            "\\midrule\n",
            "Train + Valid &  (287113, 13368) &                  802.84 &                  38.57 &                   56.78 &                   3.84 \\\\\n",
            "Test          &            11490 &                  791.39 &                  33.33 &                   59.81 &                   3.92 \\\\\n",
            "\\bottomrule\n",
            "\\end{tabular}\n",
            "\n"
          ]
        }
      ]
    },
    {
      "cell_type": "markdown",
      "source": [
        "## Lead-3 Baseline (extractive)\n"
      ],
      "metadata": {
        "id": "K8gWLNBHTSYh"
      }
    },
    {
      "cell_type": "code",
      "source": [
        "if load: \n",
        "  #Loading if not already in memory\n",
        "  df_test = pd.read_csv('/content/gdrive/MyDrive/NLP/test.csv')"
      ],
      "metadata": {
        "id": "PccHVDV3QwUT"
      },
      "execution_count": null,
      "outputs": []
    },
    {
      "cell_type": "code",
      "source": [
        "def get_rouge_scores(predicted_summaries, target_summaries) : \n",
        "    \"\"\"Calculates rouge scores based on the rouge_score package. \n",
        "    Predicted and target summaries are expected to have a \"\\n\" sentence separator.\n",
        "\n",
        "    Inputs:\n",
        "    predicted_summaries: list of str. List containing the predicted summaries\n",
        "    target_summaries: list of str. List containing the true summaries\n",
        "\n",
        "    Returns:\n",
        "    result_dic: dict. Dictionary containing rouge1, rouge2 and rougeLsum as keys and \n",
        "                      list of scores per summary as values.\n",
        "    \"\"\"\n",
        "    result_dic = {'rouge1' : [], 'rouge2' : [], 'rougeLsum': []}\n",
        "    scorer = rouge_scorer.RougeScorer(['rouge1', 'rouge2', 'rougeLsum'], use_stemmer=True)\n",
        "    for sum_hat, sum_true in tqdm(zip(predicted_summaries, target_summaries), total = len(predicted_summaries)) : \n",
        "      score = scorer.score(sum_hat,sum_true)\n",
        "      for score_name in result_dic.keys() : \n",
        "        result_dic[score_name].append(score[score_name].fmeasure)\n",
        "    return result_dic"
      ],
      "metadata": {
        "id": "4Rvg2FMyTCGT"
      },
      "execution_count": 43,
      "outputs": []
    },
    {
      "cell_type": "markdown",
      "source": [
        "The lead-3 baseline takes the first 3 sentences of an article as a summary. [A.See & al](https://arxiv.org/pdf/1704.04368.pdf) have shown that this baseline model produces a really good ROUGE score that even their Seq2Seq models could not outperform. They argue that ROUGE actually favors extractive summary systems rather than abstractive systems (such as Seq2Seq models). \n",
        "\n",
        "We will build the lead-3 baseline and compare it to our Seq2Seq system."
      ],
      "metadata": {
        "id": "gIQzWexydcXJ"
      }
    },
    {
      "cell_type": "code",
      "source": [
        "from nltk.tokenize import sent_tokenize\n",
        "\n",
        "def lead3_summaries(corpus) : \n",
        "  \"\"\"Performs Lead-3 baseline based on original corpus. \n",
        "  Takes the first 3 sentences and separate them with a \"\\n\". \"\"\"\n",
        "  return corpus.progress_apply(lambda x: \"\\n\".join(sent_tokenize(x)[:3]))"
      ],
      "metadata": {
        "id": "0cNfYD6uePv6"
      },
      "execution_count": 4,
      "outputs": []
    },
    {
      "cell_type": "code",
      "source": [
        "lead3_sum = lead3_summaries(df_test['text'])"
      ],
      "metadata": {
        "id": "fXMUCcXLkR1b",
        "colab": {
          "base_uri": "https://localhost:8080/"
        },
        "outputId": "63e87cff-aa59-424e-fe83-4b713244baac"
      },
      "execution_count": null,
      "outputs": [
        {
          "output_type": "stream",
          "name": "stderr",
          "text": [
            "100%|██████████| 11490/11490 [00:15<00:00, 765.21it/s]\n"
          ]
        }
      ]
    },
    {
      "cell_type": "code",
      "source": [
        "lead3_scores = get_rouge_scores(lead3_sum, df_test['y'])"
      ],
      "metadata": {
        "colab": {
          "base_uri": "https://localhost:8080/"
        },
        "id": "01KwU8lUSjna",
        "outputId": "e225c24c-12eb-4d5f-9bb6-9a373b04651a"
      },
      "execution_count": null,
      "outputs": [
        {
          "output_type": "stream",
          "name": "stderr",
          "text": [
            "100%|██████████| 11490/11490 [01:57<00:00, 97.99it/s]\n"
          ]
        }
      ]
    },
    {
      "cell_type": "code",
      "source": [
        "print(f\"(Lead-3) Rouge 1: {np.mean(lead3_scores['rouge1']):0.3f}\")\n",
        "print(f\"(Lead-3) Rouge 2: {np.mean(lead3_scores['rouge2']):0.3}\")\n",
        "print(f\"(Lead-3) Rouge L: {np.mean(lead3_scores['rougeLsum']):0.3f}\")\n"
      ],
      "metadata": {
        "colab": {
          "base_uri": "https://localhost:8080/"
        },
        "id": "KdeSK4gRW7Fd",
        "outputId": "8440d0c4-047e-4cfe-bcdc-082e92500aad"
      },
      "execution_count": null,
      "outputs": [
        {
          "output_type": "stream",
          "name": "stdout",
          "text": [
            "(Lead-3) Rouge 1: 0.401\n",
            "(Lead-3) Rouge 2: 0.175\n",
            "(Lead-3) Rouge L: 0.363\n"
          ]
        }
      ]
    },
    {
      "cell_type": "code",
      "source": [
        "fig, ax = plt.subplots()\n",
        "sns.kdeplot(lead3_scores['rouge1'], label = 'Rouge 1', ax = ax)\n",
        "sns.kdeplot(lead3_scores['rouge2'], label = 'Rouge 2', ax = ax)\n",
        "sns.kdeplot(lead3_scores['rougeLsum'], label = 'Rouge L', ax = ax)\n",
        "plt.legend(frameon = False)\n",
        "plt.title('Lead-3 - Rouge Scores')\n",
        "x= plt.xlabel('Rouge Score (F1)')"
      ],
      "metadata": {
        "colab": {
          "base_uri": "https://localhost:8080/",
          "height": 295
        },
        "id": "p4GOc9q0f0fh",
        "outputId": "17d29364-c8c9-4467-ce23-79a0958ca9de"
      },
      "execution_count": null,
      "outputs": [
        {
          "output_type": "display_data",
          "data": {
            "text/plain": [
              "<Figure size 432x288 with 1 Axes>"
            ],
            "image/png": "[encoded data removed]"
          },
          "metadata": {
            "needs_background": "light"
          }
        }
      ]
    },
    {
      "cell_type": "code",
      "source": [
        "import pickle \n",
        "with open('/content/gdrive/MyDrive/NLP/rouge_scores_lead3.pkl','wb') as f :\n",
        "  pickle.dump(lead3_scores, f)\n",
        "with open('/content/gdrive/MyDrive/NLP/summaries_lead3.pkl','wb') as f : \n",
        "  pickle.dump(lead3_sum,f)"
      ],
      "metadata": {
        "id": "Wzv2By8P8q64"
      },
      "execution_count": null,
      "outputs": []
    },
    {
      "cell_type": "markdown",
      "source": [
        "## Seq2seq Transformer (abstractive)"
      ],
      "metadata": {
        "id": "D4OMpf6ZnzR8"
      }
    },
    {
      "cell_type": "markdown",
      "source": [
        "In this section, we build a Seq2Seq model that uses Transformers in order to make predictions. We believe that using Transformers could both be an increase in performances and in training time when compared to RNN Seq2Seq models. Indeed, models using Transformers are state-of-the-art in many NLP tasks including [summarization](https://paperswithcode.com/sota/abstractive-text-summarization-on-cnn-daily). \n",
        "\n",
        "We follow the pre processing of [Nallapati & Al](https://arxiv.org/pdf/1602.06023.pdf): we use the most frequent $150000$ words in the articles vocabulary and the $80000$ most frequent words in the summaries vocabulary. We also set the maximum length of an article to $800$ and the maximum length of the summary to $100$ during training."
      ],
      "metadata": {
        "id": "Hh7hpkAceYV7"
      }
    },
    {
      "cell_type": "code",
      "source": [
        "if load : \n",
        "    df_train = pd.read_csv('/content/gdrive/MyDrive/NLP/train.csv', usecols = ['text_cleaned','y_cleaned'])\n",
        "    df_valid = pd.read_csv('/content/gdrive/MyDrive/NLP/valid.csv', usecols = ['text_cleaned','y_cleaned'])\n",
        "    df_test = pd.read_csv('/content/gdrive/MyDrive/NLP/test.csv', usecols = ['text_cleaned', 'y'])"
      ],
      "metadata": {
        "id": "aHKw3J9XPqyc"
      },
      "execution_count": 5,
      "outputs": []
    },
    {
      "cell_type": "markdown",
      "source": [
        "### Vocabulary & Dataloaders"
      ],
      "metadata": {
        "id": "Xmim0aYOQ3_J"
      }
    },
    {
      "cell_type": "code",
      "source": [
        "if load : \n",
        "  text_vocab = torch.load( '/content/gdrive/MyDrive/NLP/text_vocab.pth.tar')\n",
        "  text_tok = torch.load( '/content/gdrive/MyDrive/NLP/text_tokenizer.pth.tar')\n",
        "  sum_vocab = torch.load( '/content/gdrive/MyDrive/NLP/summary_vocab.pth.tar')\n",
        "  sum_tok = torch.load( '/content/gdrive/MyDrive/NLP/summary_tokenizer.pth.tar')\n",
        "  SOS_IDX, EOS_IDX, PAD_IDX = text_vocab['<sos>'], text_vocab['<eos>'], text_vocab['<pad>']"
      ],
      "metadata": {
        "id": "9WIm4s_BVANi"
      },
      "execution_count": 6,
      "outputs": []
    },
    {
      "cell_type": "code",
      "source": [
        "def build_vocab(corpus, max_words = 150000):\n",
        "  \"\"\"Build a PyTorch Vocab object based on the given corpus. Texts are supposed to be written in english.\n",
        "  The vocabulary is built using spacy english tokenizer.\n",
        "  Inputs:\n",
        "    corpus: list or pd.Series. Iterator containing the texts.\n",
        "    max_words: int. Specifies the number of most frequent words to keep in the vocabulary.\n",
        "  \n",
        "  Returns:\n",
        "    voc_dic: Vocab object containing the vocabulary of the given corpus.\n",
        "    tokenizer: Trained spacy tokenizer.\n",
        "  \"\"\"\n",
        "  counter = Counter()\n",
        "  tokenizer = get_tokenizer('spacy', language='en_core_web_sm')\n",
        "  for text in tqdm(corpus):\n",
        "      counter.update(tokenizer(text))\n",
        "  sorted_by_freq_tuples = sorted(counter.items(), key=lambda x: x[1], reverse=True)[:max_words]\n",
        "  ordered_dict = OrderedDict(sorted_by_freq_tuples)\n",
        "\n",
        "  voc_dic = vocab(ordered_dict, specials=['<unk>', '<pad>', '<sos>', '<eos>'])\n",
        "  voc_dic.set_default_index(voc_dic['<unk>'])\n",
        "  global SOS_IDX, EOS_IDX, PAD_IDX\n",
        "  SOS_IDX = voc_dic['<sos>']\n",
        "  EOS_IDX = voc_dic['<eos>']\n",
        "  PAD_IDX = voc_dic['<pad>']\n",
        "\n",
        "  return voc_dic, tokenizer\n",
        "\n",
        "\n",
        "def sequential_transforms(*transforms):\n",
        "    \"\"\"Creates a serie of transformation function that takes as input a sequence of tokens\"\"\"\n",
        "    def func(txt_input):\n",
        "        for transform in transforms:\n",
        "            txt_input = transform(txt_input)\n",
        "        return txt_input\n",
        "    return func\n",
        "\n",
        "\n",
        "def tensor_transform(tokens, maxlen = 100000):\n",
        "    \"\"\"Adds a SOS token at the beggining of the sequence and a EOS token at the end of the sequence.\n",
        "    The sequence is then converted to Tensor. Only the first `maxlen` tokens are kept.\"\"\"\n",
        "    return torch.cat((torch.tensor([SOS_IDX]),\n",
        "                      torch.tensor(tokens)[:maxlen],\n",
        "                      torch.tensor([EOS_IDX])))\n",
        "\n",
        "def collate_fn(batch):\n",
        "    \"\"\"Function that will be used on each batch created by a Pytorch DataLoader.\n",
        "     Performs transformation of each pair of (article, summary) in the batch. \n",
        "     Transformations includes: tokenization -> convert to ids -> tensor transform.\n",
        "     In the end, pad the sequences to the length of the longest sequence in the batch with the PAD_IDX token.\n",
        "    \"\"\"\n",
        "    src_batch, tgt_batch = [], []\n",
        "    for src_sample, tgt_sample in batch:\n",
        "        src_batch.append(transforms[\"text\"](src_sample.rstrip(\"\\n\")))\n",
        "        \n",
        "        tgt_batch.append(transforms[\"sum\"](tgt_sample.rstrip(\"\\n\")) if tgt_sample is not None else None)\n",
        "\n",
        "    src_batch = pad_sequence(src_batch, padding_value=PAD_IDX)\n",
        "    tgt_batch = pad_sequence(tgt_batch, padding_value=PAD_IDX) if tgt_sample is not None else None\n",
        "    return src_batch, tgt_batch"
      ],
      "metadata": {
        "id": "HHSRNw7KUYDk"
      },
      "execution_count": 7,
      "outputs": []
    },
    {
      "cell_type": "code",
      "source": [
        "### CREATION OF THE ARTICLES VOCABULARY\n",
        "text_vocab, text_tok = build_vocab(df_train['text_cleaned'], max_words = 150000)"
      ],
      "metadata": {
        "id": "yQ62FNXgHoYF"
      },
      "execution_count": null,
      "outputs": []
    },
    {
      "cell_type": "code",
      "source": [
        "### CREATION OF THE SUMMARIES VOCABULARY\n",
        "sum_vocab, sum_tok = build_vocab(df_train['y_cleaned'], max_words = 80000)"
      ],
      "metadata": {
        "id": "J9u0XOFDeUva"
      },
      "execution_count": null,
      "outputs": []
    },
    {
      "cell_type": "code",
      "source": [
        "### SAVING VOCABULARIES AND TOKENIZERS FOR LATER USES\n",
        "torch.save(text_vocab, '/content/gdrive/MyDrive/NLP/text_vocab.pth.tar')\n",
        "torch.save(text_tok, '/content/gdrive/MyDrive/NLP/text_tokenizer.pth.tar')\n",
        "torch.save(sum_vocab, '/content/gdrive/MyDrive/NLP/summary_vocab.pth.tar')\n",
        "torch.save(sum_tok, '/content/gdrive/MyDrive/NLP/summary_tokenizer.pth.tar')"
      ],
      "metadata": {
        "id": "M86SWM7aS9fK"
      },
      "execution_count": 9,
      "outputs": []
    },
    {
      "cell_type": "code",
      "source": [
        "### BUILDING SEQUENTIAL TRANSFORM FUNCTIONS\n",
        "from functools import partial\n",
        "\n",
        "# The articles max length is 800 tokens\n",
        "text_tens_trans = partial(tensor_transform, maxlen = 800)\n",
        "\n",
        "# The summaries max length is 100 tokens\n",
        "sum_tens_trans = partial(tensor_transform, maxlen = 100)\n",
        "\n",
        "transforms = {}\n",
        "\n",
        "# Tokenization -> Convert to Ids -> Add SOS + EOS and convert to Tensor\n",
        "transforms['text'] = sequential_transforms(text_tok, text_vocab, text_tens_trans)\n",
        "transforms['sum'] = sequential_transforms(sum_tok, sum_vocab, sum_tens_trans)\n"
      ],
      "metadata": {
        "id": "qjgDVkwEBHKj"
      },
      "execution_count": 8,
      "outputs": []
    },
    {
      "cell_type": "code",
      "source": [
        "from torch.utils.data import Dataset, DataLoader\n",
        "import numpy as np\n",
        "import torch\n",
        "class TextDataset(Dataset):\n",
        "    \"\"\"A very simple PyTorch dataset that reads in-memory texts and summaries.\"\"\"\n",
        "    def __init__(self, texts, summaries) :\n",
        "      self.texts = texts \n",
        "      self.summaries = summaries\n",
        "      \n",
        "    def __len__(self) : \n",
        "      return len(self.texts)\n",
        "      \n",
        "    def __getitem__(self, index) : \n",
        "\n",
        "      text = self.texts[index]\n",
        "      \n",
        "      summary =  self.summaries[index] if self.summaries is not None else None\n",
        "                           \n",
        "      return text, summary"
      ],
      "metadata": {
        "id": "qp9wdQMZcY55"
      },
      "execution_count": 9,
      "outputs": []
    },
    {
      "cell_type": "code",
      "source": [
        "## Building Datasets and Dataloaders\n",
        "\n",
        "trainset = TextDataset(df_train['text_cleaned'], df_train['y_cleaned'])\n",
        "valset = TextDataset(df_valid['text_cleaned'], df_valid['y_cleaned'])\n",
        "testset = TextDataset(df_test['text_cleaned'], None)\n",
        "\n",
        "train_loader = DataLoader(trainset, batch_size = 16, shuffle = True, num_workers = 0, collate_fn=collate_fn)\n",
        "val_loader = DataLoader(valset, batch_size = 16, shuffle = False, num_workers = 0, collate_fn=collate_fn)\n",
        "test_loader = DataLoader(testset, batch_size = 16, shuffle = False, num_workers = 0, collate_fn=collate_fn)"
      ],
      "metadata": {
        "id": "xl3pNg1Ee79f"
      },
      "execution_count": 10,
      "outputs": []
    },
    {
      "cell_type": "markdown",
      "source": [
        "### Pytorch Transformer Model"
      ],
      "metadata": {
        "id": "XxJeRdiFvNPY"
      }
    },
    {
      "cell_type": "markdown",
      "source": [
        "Code is adapted from PyTorch's [tutorial](https://pytorch.org/tutorials/beginner/translation_transformer.html) on Seq2Seq Transformers for language translation. We adapted it to the summarization task."
      ],
      "metadata": {
        "id": "2mC5jIORpvNM"
      }
    },
    {
      "cell_type": "code",
      "source": [
        "from torch import Tensor\n",
        "import torch\n",
        "import torch.nn as nn\n",
        "from torch.nn import Transformer\n",
        "import math\n",
        "from queue import PriorityQueue\n",
        "import operator\n",
        "\n",
        "\n",
        "# helper Module that adds positional encoding to the token embedding to introduce a notion of word order.\n",
        "class PositionalEncoding(nn.Module):\n",
        "    def __init__(self,\n",
        "                 emb_size: int,\n",
        "                 dropout: float,\n",
        "                 maxlen: int = 5000):\n",
        "        super(PositionalEncoding, self).__init__()\n",
        "        den = torch.exp(- torch.arange(0, emb_size, 2)* math.log(10000) / emb_size)\n",
        "        pos = torch.arange(0, maxlen).reshape(maxlen, 1)\n",
        "        pos_embedding = torch.zeros((maxlen, emb_size))\n",
        "        pos_embedding[:, 0::2] = torch.sin(pos * den)\n",
        "        pos_embedding[:, 1::2] = torch.cos(pos * den)\n",
        "        pos_embedding = pos_embedding.unsqueeze(-2)\n",
        "\n",
        "        self.dropout = nn.Dropout(dropout)\n",
        "        self.register_buffer('pos_embedding', pos_embedding)\n",
        "\n",
        "    def forward(self, token_embedding: Tensor):\n",
        "        return self.dropout(token_embedding + self.pos_embedding[:token_embedding.size(0), :])\n",
        "\n",
        "# helper Module to convert tensor of input indices into corresponding tensor of token embeddings\n",
        "class TokenEmbedding(nn.Module):\n",
        "    def __init__(self, vocab_size: int, emb_size):\n",
        "        super(TokenEmbedding, self).__init__()\n",
        "        self.embedding = nn.Embedding(vocab_size, emb_size)\n",
        "        self.emb_size = emb_size\n",
        "\n",
        "    def forward(self, tokens: Tensor):\n",
        "        return self.embedding(tokens.long()) * math.sqrt(self.emb_size)\n",
        "\n",
        "# Seq2Seq Network\n",
        "class Seq2SeqTransformer(nn.Module):\n",
        "    def __init__(self,\n",
        "                 num_encoder_layers: int,\n",
        "                 num_decoder_layers: int,\n",
        "                 emb_size: int,\n",
        "                 nhead: int,\n",
        "                 src_vocab_size: int,\n",
        "                 tgt_vocab_size: int,\n",
        "                 dim_feedforward: int = 512,\n",
        "                 dropout: float = 0.1):\n",
        "        super(Seq2SeqTransformer, self).__init__()\n",
        "        self.emb_size = emb_size\n",
        "        self.transformer = Transformer(d_model=emb_size,\n",
        "                                       nhead=nhead,\n",
        "                                       num_encoder_layers=num_encoder_layers,\n",
        "                                       num_decoder_layers=num_decoder_layers,\n",
        "                                       dim_feedforward=dim_feedforward,\n",
        "                                       dropout=dropout)\n",
        "        self.generator = nn.Linear(emb_size, tgt_vocab_size)\n",
        "        self.src_tok_emb = TokenEmbedding(src_vocab_size, emb_size)\n",
        "        self.tgt_tok_emb = TokenEmbedding(tgt_vocab_size, emb_size)\n",
        "        self.positional_encoding = PositionalEncoding(\n",
        "            emb_size, dropout=dropout)\n",
        "\n",
        "    def forward(self,\n",
        "                src: Tensor,\n",
        "                trg: Tensor,\n",
        "                src_mask: Tensor,\n",
        "                tgt_mask: Tensor,\n",
        "                src_padding_mask: Tensor,\n",
        "                tgt_padding_mask: Tensor,\n",
        "                memory_key_padding_mask: Tensor):\n",
        "      \n",
        "        src_emb = self.positional_encoding(self.src_tok_emb(src))\n",
        "        tgt_emb = self.positional_encoding(self.tgt_tok_emb(trg))\n",
        "        outs = self.transformer(src_emb, tgt_emb, src_mask, tgt_mask, None,\n",
        "                                src_padding_mask, tgt_padding_mask, memory_key_padding_mask)\n",
        "        return self.generator(outs)\n",
        "\n",
        "    def encode(self, src: Tensor, src_mask: Tensor):\n",
        "        return self.transformer.encoder(self.positional_encoding(\n",
        "                            self.src_tok_emb(src)), src_mask)\n",
        "\n",
        "    def decode(self, tgt: Tensor, memory: Tensor, tgt_mask: Tensor):\n",
        "        return self.transformer.decoder(self.positional_encoding(\n",
        "                          self.tgt_tok_emb(tgt)), memory,\n",
        "                          tgt_mask)"
      ],
      "metadata": {
        "id": "OUXeeuiGHA1p"
      },
      "execution_count": 11,
      "outputs": []
    },
    {
      "cell_type": "code",
      "source": [
        "DEVICE = torch.device('cuda' if torch.cuda.is_available() else 'cpu')\n",
        "\n",
        "def generate_square_subsequent_mask(sz):\n",
        "    mask = (torch.triu(torch.ones((sz, sz), device=DEVICE)) == 1).transpose(0, 1)\n",
        "    mask = mask.float().masked_fill(mask == 0, float('-inf')).masked_fill(mask == 1, float(0.0))\n",
        "    return mask\n",
        "\n",
        "def create_mask(src, tgt):\n",
        "    src_seq_len = src.shape[0]\n",
        "    tgt_seq_len = tgt.shape[0]\n",
        "\n",
        "    tgt_mask = generate_square_subsequent_mask(tgt_seq_len)\n",
        "    src_mask = torch.zeros((src_seq_len, src_seq_len),device=DEVICE).type(torch.bool)\n",
        "\n",
        "    src_padding_mask = (src == PAD_IDX).transpose(0, 1)\n",
        "    tgt_padding_mask = (tgt == PAD_IDX).transpose(0, 1)\n",
        "    return src_mask, tgt_mask, src_padding_mask, tgt_padding_mask\n"
      ],
      "metadata": {
        "id": "sOjk9OzaHJqI"
      },
      "execution_count": 12,
      "outputs": []
    },
    {
      "cell_type": "markdown",
      "source": [
        "### Training utils"
      ],
      "metadata": {
        "id": "05dAMlCcvSdW"
      }
    },
    {
      "cell_type": "code",
      "source": [
        "def train_epoch(model, optimizer, epoch_num, loss_fn):\n",
        "\n",
        "    losses = 0\n",
        "    pbar = tqdm(enumerate(train_loader), desc = f'loss', total = len(train_loader))\n",
        "    model.train()\n",
        "    for idx, (src, tgt) in pbar : \n",
        "        #We need to put model in train mode at each iteration as the translation puts it in eval mode\n",
        "\n",
        "        #Adjusting learning rate based on transformer paper scheme\n",
        "        step_num = len(train_loader) * epoch_num + idx +1 \n",
        "        optimizer.param_groups[0]['lr'] = adjust_lr(transformer.emb_size, 10000, step_num)\n",
        "        src = src.to(DEVICE)\n",
        "        tgt = tgt.to(DEVICE)\n",
        "        \n",
        "        tgt_input = tgt[:-1, :]\n",
        "\n",
        "        src_mask, tgt_mask, src_padding_mask, tgt_padding_mask = create_mask(src, tgt_input)\n",
        "        logits = model(src, tgt_input, src_mask, tgt_mask, src_padding_mask, tgt_padding_mask, src_padding_mask)\n",
        "\n",
        "        optimizer.zero_grad()\n",
        "\n",
        "        tgt_out = tgt[1:, :]\n",
        "        loss = loss_fn(logits.reshape(-1, logits.shape[-1]), tgt_out.reshape(-1))\n",
        "        del logits, tgt_out, src, tgt, tgt_input, src_mask, src_padding_mask, tgt_mask, tgt_padding_mask\n",
        "        loss.backward()\n",
        "\n",
        "        optimizer.step()\n",
        "        losses += loss.item()\n",
        "        pbar.set_description(f'Loss {losses / (idx+1)}')\n",
        "\n",
        "    return losses / len(train_loader)\n",
        "\n",
        "def evaluate(model, loss_fn):\n",
        "    model.eval()\n",
        "    losses = 0\n",
        "    pbar = tqdm(enumerate(val_loader), desc = f'loss', total = len(val_loader))\n",
        "\n",
        "    for idx, (src, tgt) in pbar:\n",
        "        src = src.to(DEVICE)\n",
        "        tgt = tgt.to(DEVICE)\n",
        "\n",
        "        tgt_input = tgt[:-1, :]\n",
        "\n",
        "        src_mask, tgt_mask, src_padding_mask, tgt_padding_mask = create_mask(src, tgt_input)\n",
        "\n",
        "        logits = model(src, tgt_input, src_mask, tgt_mask,src_padding_mask, tgt_padding_mask, src_padding_mask)\n",
        "\n",
        "        tgt_out = tgt[1:, :]\n",
        "        loss = loss_fn(logits.reshape(-1, logits.shape[-1]), tgt_out.reshape(-1))\n",
        "        losses += loss.item()\n",
        "        pbar.set_description(f'Loss {losses / (idx+1)}')\n",
        "\n",
        "    return losses / len(val_loader)\n",
        "\n",
        "def adjust_lr(d_model, warmup_steps, step) : \n",
        "    \"\"\"Learning rate scheme from Text Summarization with Pretrained Encoders\"\"\"\n",
        "    return (d_model**-0.5) * min(step ** -0.5, step * (warmup_steps ** -1.5))\n",
        "     "
      ],
      "metadata": {
        "id": "COYSEf1zvaAA"
      },
      "execution_count": 13,
      "outputs": []
    },
    {
      "cell_type": "markdown",
      "source": [
        "### Decoding utils"
      ],
      "metadata": {
        "id": "jiAnB9N9dGqv"
      }
    },
    {
      "cell_type": "markdown",
      "source": [
        "We build two decoding strategies: Greedy and Beam Search."
      ],
      "metadata": {
        "id": "OOhl0g52qYZe"
      }
    },
    {
      "cell_type": "markdown",
      "source": [
        "#### Greedy decoding"
      ],
      "metadata": {
        "id": "Xq3IkvdhdGqv"
      }
    },
    {
      "cell_type": "markdown",
      "source": [
        "Greedy decoding simply uses the most likely token at each decoding time (hence the name greedy).\n"
      ],
      "metadata": {
        "id": "e28RXwcqrIvn"
      }
    },
    {
      "cell_type": "code",
      "source": [
        "def greedy_decode(model, src, src_mask, max_len, start_symbol):\n",
        "    src = src.to(DEVICE)\n",
        "    src_mask = src_mask.to(DEVICE)\n",
        "\n",
        "    memory = model.encode(src, src_mask)\n",
        "    memory = memory.to(DEVICE)\n",
        "    ys = torch.ones(1, 1).fill_(start_symbol).type(torch.long).to(DEVICE)\n",
        "    conditional_prob = 0\n",
        "    for i in range(max_len-1):\n",
        "        tgt_mask = (generate_square_subsequent_mask(ys.size(0))\n",
        "                    .type(torch.bool)).to(DEVICE)\n",
        "        out = model.decode(ys, memory, tgt_mask)\n",
        "        out = out.transpose(0, 1)\n",
        "        prob = model.generator(out[:, -1])\n",
        "        val, next_word = torch.max(prob, dim=1)\n",
        "        next_word = next_word.item()\n",
        "        conditional_prob += val\n",
        "        ys = torch.cat([ys,\n",
        "                        torch.ones(1, 1).type_as(src.data).fill_(next_word)], dim=0)\n",
        "        if next_word == EOS_IDX:\n",
        "            break\n",
        "    return ys, conditional_prob / ys.size(0)\n",
        "\n",
        "def greedy_summarize(model: torch.nn.Module, src_sentence: str, maxlen = 100):\n",
        "    with torch.no_grad() : \n",
        "      model.eval()\n",
        "      src = transforms['text'](src_sentence).view(-1, 1)\n",
        "      num_tokens = src.shape[0]\n",
        "      src_mask = (torch.zeros(num_tokens, num_tokens)).type(torch.bool)\n",
        "      tgt_tokens, contional_prob = greedy_decode(\n",
        "          model,  src, src_mask, max_len=maxlen, start_symbol=SOS_IDX)\n",
        "      return \" \".join(sum_vocab.lookup_tokens(list(tgt_tokens.flatten().cpu().numpy()))).replace(\"<sos>\", \"\").replace(\"<eos>\", \"\").strip()\n"
      ],
      "metadata": {
        "id": "urKmicepdGqv"
      },
      "execution_count": 14,
      "outputs": []
    },
    {
      "cell_type": "markdown",
      "source": [
        "#### Beam-Search decoding"
      ],
      "metadata": {
        "id": "qXPX5C0NdGqv"
      }
    },
    {
      "cell_type": "markdown",
      "source": [
        "Beam Search decoding maintains a queue of top $K$ most likely tokens at each decoding time and expands the queue with top $K$ most likely tokens whenever a decoding happens. \n",
        "\n",
        "It results in a very large number of trials, and the sequence with the highest log likelihood is returned. \n",
        "\n",
        "In practice, we limit the number of iterations as we don't have enough computation power to try all the combinations."
      ],
      "metadata": {
        "id": "RSqBBvwZrOVm"
      }
    },
    {
      "cell_type": "markdown",
      "source": [
        "The code is adapted from this [github](https://github.com/budzianowski/PyTorch-Beam-Search-Decoding/blob/master/decode_beam.py), which builds beam search for Seq2Seq-RNN models. We adapted it to match a Seq2Seq Transformer model and optimized it by putting a max length restriction as well as a max number of iterations."
      ],
      "metadata": {
        "id": "EtrMjEiFrk2B"
      }
    },
    {
      "cell_type": "code",
      "source": [
        "## Package to build a priority queue in Python\n",
        "from heapq import * \n",
        "\n",
        "class BeamSearchNode(object):\n",
        "    def __init__(self, previousNode, ys, logProb, length):\n",
        "        '''\n",
        "        :param hiddenstate:\n",
        "        :param previousNode:\n",
        "        :param wordId:\n",
        "        :param logProb:\n",
        "        :param length:\n",
        "        '''\n",
        "        self.prevNode = previousNode\n",
        "        self.ys = ys\n",
        "        self.logp = logProb\n",
        "        self.leng = length\n",
        "        \n",
        "    def eval(self, alpha = 1):\n",
        "\n",
        "        return self.logp / (float(self.leng)**alpha)\n",
        "\n",
        "    def wordid(self) : \n",
        "      return self.ys[-1].item()\n",
        "\n",
        "\n",
        "def beam_decode(model, src, src_mask, beam_width= 5, max_len = 100, max_iter = 2000):\n",
        "    '''\n",
        "    :param target_tensor: target indexes tensor of shape [B, T] where B is the batch size and T is the maximum length of the output sentence\n",
        "    :param decoder_hidden: input tensor of shape [1, B, H] for start of the decoding\n",
        "    :param encoder_outputs: if you are using attention mechanism you can pass encoder outputs, [T, B, H] where T is the maximum length of input sentence\n",
        "    :return: decoded_batch\n",
        "    '''\n",
        "\n",
        "    topk = 1  # how many sentence do you want to generate\n",
        "    decoded_batch = []\n",
        "\n",
        "    # decoding goes sentence by sentence\n",
        "    for idx in range(src.size(1)):\n",
        "        src = src.to(DEVICE)\n",
        "        src_mask = src_mask.to(DEVICE)\n",
        "\n",
        "        memory = model.encode(src, src_mask)\n",
        "\n",
        "        # Start with the start of the sentence token\n",
        "        ys = torch.ones(1, 1).fill_(SOS_IDX).type(torch.long).to(DEVICE)\n",
        "\n",
        "        # Number of sentence to generate\n",
        "        endnodes = []\n",
        "        number_required = min((topk + 1), topk - len(endnodes))\n",
        "\n",
        "        # starting node -  hidden vector, previous node, word id, logp, length\n",
        "        node = BeamSearchNode(None, ys, 0, 1)\n",
        "        queue = []\n",
        "\n",
        "        # start the queue\n",
        "        heappush(queue, (-node.eval(), node))\n",
        "        n_iter = 1\n",
        "        done = False\n",
        "        # start beam search\n",
        "        while not done :\n",
        "            # give up when decoding takes too long\n",
        "            if n_iter >= max_iter : done = True\n",
        "            # fetch the best node\n",
        "            score, n = heappop(queue)\n",
        "            while n.leng >= max_len : \n",
        "              endnodes.append((score,n))\n",
        "              if len(queue) == 0 : \n",
        "                  done = True\n",
        "              score, n = heappop(queue)\n",
        "\n",
        "            ys = n.ys\n",
        "            if n.wordid() == EOS_IDX and n.prevNode != None:\n",
        "                endnodes.append((score, n))\n",
        "                # if we reached maximum # of sentences required\n",
        "                if len(endnodes) >= number_required:\n",
        "                    done = True\n",
        "\n",
        "            # decode for one step using decoder\n",
        "            tgt_mask = (generate_square_subsequent_mask(ys.size(0))\n",
        "                .type(torch.bool)).to(DEVICE)\n",
        "            out = model.decode(ys, memory, tgt_mask)\n",
        "            out = out.transpose(0, 1)\n",
        "            prob = model.generator(out[:, -1])\n",
        "\n",
        "            # PUT HERE REAL BEAM SEARCH OF TOP\n",
        "            log_prob, indexes = torch.topk(prob, beam_width)\n",
        "            nextnodes = []\n",
        "\n",
        "            for new_k in range(beam_width):\n",
        "                decoded_t = indexes[0][new_k].view(1, -1)\n",
        "                log_p = log_prob[0][new_k].item()\n",
        "                next_ys = torch.cat([n.ys, torch.ones(1, 1).type_as(src.data).fill_(decoded_t.item())], dim=0)\n",
        "                node = BeamSearchNode(n, next_ys, n.logp + log_p, n.leng + 1)\n",
        "                score = -node.eval()\n",
        "                #put them into queue\n",
        "                heappush(queue, (score, node))\n",
        "            n_iter +=1\n",
        "        # choose nbest paths, back trace them\n",
        "        if len(endnodes) == 0:\n",
        "            endnodes = [heappop(queue) for _ in range(topk)]\n",
        "        utterances = []\n",
        "        for score, n in sorted(endnodes, key=operator.itemgetter(0)):\n",
        "            utterance = []\n",
        "            utterance.append(n.wordid())\n",
        "            # back trace\n",
        "            while n.prevNode != None:\n",
        "                n = n.prevNode\n",
        "                utterance.append(n.wordid())\n",
        "\n",
        "            utterance = utterance[::-1]\n",
        "            utterances.append(utterance)\n",
        "                        \n",
        "        decoded_batch.append(utterances)\n",
        "    return decoded_batch\n",
        "\n",
        "\n",
        "def beam_summarize(model: torch.nn.Module, src_sentence: str, max_len = 100, beam_width = 4, max_iter = 2000):\n",
        "    with torch.no_grad() :\n",
        "      model.eval()\n",
        "      src = transforms['text'](src_sentence).view(-1, 1)\n",
        "      num_tokens = src.shape[0]\n",
        "      src_mask = (torch.zeros(num_tokens, num_tokens)).type(torch.bool)\n",
        "      beam_decoding = beam_decode(\n",
        "          model,  src, src_mask, max_len=max_len, beam_width = beam_width, max_iter = max_iter)\n",
        "      highest_prob_decoding = beam_decoding[0][0]\n",
        "      return \" \".join(sum_vocab.lookup_tokens(highest_prob_decoding)).replace(\"<sos>\", \"\").replace(\"<eos>\", \"\").strip()\n"
      ],
      "metadata": {
        "id": "jvzrqgYkdGqv"
      },
      "execution_count": 87,
      "outputs": []
    },
    {
      "cell_type": "markdown",
      "source": [
        "### Training"
      ],
      "metadata": {
        "id": "nTFJY42zPzVi"
      }
    },
    {
      "cell_type": "code",
      "source": [
        "del transformer\n",
        "torch.cuda.empty_cache()\n",
        "import gc\n",
        "gc.collect()"
      ],
      "metadata": {
        "colab": {
          "base_uri": "https://localhost:8080/"
        },
        "id": "HeSfWdWiQ0Yy",
        "outputId": "f5082d37-8f3c-4e7d-f038-f84eb720b94b"
      },
      "execution_count": 27,
      "outputs": [
        {
          "output_type": "execute_result",
          "data": {
            "text/plain": [
              "1945"
            ]
          },
          "metadata": {},
          "execution_count": 27
        }
      ]
    },
    {
      "cell_type": "code",
      "source": [
        "\n",
        "SRC_VOCAB_SIZE = len(text_vocab)\n",
        "TGT_VOCAB_SIZE = len(sum_vocab)\n",
        "EMB_SIZE = 512\n",
        "NHEAD = 8\n",
        "FFN_HID_DIM = 2048\n",
        "NUM_ENCODER_LAYERS = 2\n",
        "NUM_DECODER_LAYERS = 2\n",
        "\n",
        "transformer = Seq2SeqTransformer(NUM_ENCODER_LAYERS, NUM_DECODER_LAYERS, EMB_SIZE,\n",
        "                                 NHEAD, SRC_VOCAB_SIZE, TGT_VOCAB_SIZE, FFN_HID_DIM)\n",
        "\n",
        "\n",
        "transformer = transformer.to(DEVICE)\n",
        "if load : \n",
        "  checkpoint = torch.load(f'/content/gdrive/MyDrive/NLP/transformer_emb{EMB_SIZE}_ffn{FFN_HID_DIM}_h{NHEAD}_nenco{NUM_ENCODER_LAYERS}_ndeco{NUM_DECODER_LAYERS}.pth.tar')\n",
        "  transformer.load_state_dict(checkpoint['model_state_dict'])\n",
        "\n",
        "training_loss_fn = torch.nn.CrossEntropyLoss(ignore_index=PAD_IDX)\n",
        "validation_loss_fn = torch.nn.CrossEntropyLoss(ignore_index=PAD_IDX)\n",
        "optimizer = torch.optim.Adam(transformer.parameters(), betas=(0.9, 0.98))\n"
      ],
      "metadata": {
        "id": "qjrtLX9vHKBA"
      },
      "execution_count": 17,
      "outputs": []
    },
    {
      "cell_type": "code",
      "source": [
        "print('Number of trainable parameters:')\n",
        "print(f'{sum([len(i.ravel()) for i in transformer.parameters() if i.requires_grad]):,}')"
      ],
      "metadata": {
        "colab": {
          "base_uri": "https://localhost:8080/"
        },
        "id": "KYHbO-Qof38o",
        "outputId": "bfe1e30e-bbb0-4ed6-fed2-12d11da6f85a"
      },
      "execution_count": 29,
      "outputs": [
        {
          "output_type": "stream",
          "name": "stdout",
          "text": [
            "Number of trainable parameters:\n",
            "173,521,028\n"
          ]
        }
      ]
    },
    {
      "cell_type": "code",
      "source": [
        "NUM_EPOCHS = 20\n",
        "best_val_loss = 1000000\n",
        "all_train_losses = []\n",
        "all_val_losses = []\n",
        "\n",
        "for epoch in range(1, NUM_EPOCHS+1):\n",
        "    train_loss = train_epoch(transformer, optimizer, epoch, training_loss_fn)\n",
        "    val_loss = evaluate(transformer, validation_loss_fn)\n",
        "\n",
        "    all_train_losses.append(train_loss)\n",
        "    all_val_losses.append(val_loss)\n",
        "    ## Logging summarization along training process\n",
        "    with torch.no_grad() : \n",
        "      test_idx = np.random.randint(len(df_valid[:100]))\n",
        "      print(\"Beam Search\\n\", beam_summarize(transformer, valset[test_idx][0], max_iter=2000))\n",
        "      print(\"Greedy Search\\n\", greedy_summarize(transformer, valset[test_idx][0]))\n",
        "      print(valset[test_idx][1])\n",
        "    ## This is just to make sure that we don't loose the losses if colab disconnects \n",
        "    ## as resuming training is possible since we save the model at each epoch\n",
        "    with open('/content/gdrive/MyDrive/NLP/train_losses.pkl','wb') as f :\n",
        "        pickle.dump(all_train_losses, f)\n",
        "    with open('/content/gdrive/MyDrive/NLP/validation_losses.pkl','wb') as f :\n",
        "        pickle.dump(all_val_losses, f)\n",
        "\n",
        "    print((f\"Epoch: {epoch}, Train loss: {train_loss:.3f}, Validation loss: {val_loss:.3f}\"))\n",
        "    if val_loss < best_val_loss : \n",
        "      best_val_loss = val_loss \n",
        "      torch.save({\n",
        "          'epoch': epoch,\n",
        "          'model_state_dict': transformer.state_dict(),\n",
        "          'optimizer_state_dict': optimizer.state_dict()\n",
        "      }, f'/content/gdrive/MyDrive/NLP/transformer_emb{EMB_SIZE}_ffn{FFN_HID_DIM}_h{NHEAD}_nenco{NUM_ENCODER_LAYERS}_ndeco{NUM_DECODER_LAYERS}.pth.tar')\n",
        "    elif epoch > 0 : \n",
        "      break \n"
      ],
      "metadata": {
        "colab": {
          "base_uri": "https://localhost:8080/"
        },
        "id": "Vim7PQ3rHtSv",
        "outputId": "d12c0da5-039f-4108-c986-f536eefe0268"
      },
      "execution_count": null,
      "outputs": [
        {
          "output_type": "stream",
          "name": "stderr",
          "text": [
            "Loss 5.860763354419698: 100%|██████████| 17945/17945 [1:43:55<00:00,  2.88it/s]\n",
            "Loss 5.288801635281321: 100%|██████████| 836/836 [02:27<00:00,  5.67it/s]\n"
          ]
        },
        {
          "output_type": "stream",
          "name": "stdout",
          "text": [
            "Beam Search\n",
            " The virus is a virus in the U.S. and the U.S. are not known . The virus is the first to be used to be used in the U.S. to be used in the U.S. to be used in the U.S. .\n",
            "Greedy Search\n",
            " The virus is a virus in the U.S. , the U.S. and the U.S. are not known . The virus is a virus is a patient and the virus . The virus is a new virus . The virus is a new report says the virus is not a problem .\n",
            "External advisory committee to CDC warns the agency is on its way to losing credibility. Group of experts says CDC's commitment to safety is \"inconsistent\" and \"insufficient \". Advisory committee recommends all CDC labs go through external review and accreditation process.\n",
            "Epoch: 1, Train loss: 5.861, Validation loss: 5.289\n"
          ]
        },
        {
          "output_type": "stream",
          "name": "stderr",
          "text": [
            "Loss 5.348050344339085: 100%|██████████| 17945/17945 [1:45:14<00:00,  2.84it/s]\n",
            "Loss 5.03041217629419: 100%|██████████| 836/836 [02:30<00:00,  5.56it/s]\n"
          ]
        },
        {
          "output_type": "stream",
          "name": "stdout",
          "text": [
            "Beam Search\n",
            " NEW : The plane had been in a flight to the plane . The flight was a flight from a flight to France to France . The flight to France to France to France to France . The flight from France to France to France to France to France .\n",
            "Greedy Search\n",
            " NEW : The flight was a flight to a flight to the flight . The flight was a flight to the flight to the flight from the plane . The flight to the plane was a flight to the plane was a flight . The flight to the plane was a flight to the plane was a flight .\n",
            "Andreas Lubitz had informed his Lufthansa training school of an episode of severe depression, airline says. A police spokesman say reports about video found in Germanwings wreckage are \"completely wrong\". Journalists at Bild and Paris Match are \"very confident\" the video clip is real, an editor says.\n",
            "Epoch: 2, Train loss: 5.348, Validation loss: 5.030\n"
          ]
        },
        {
          "output_type": "stream",
          "name": "stderr",
          "text": [
            "Loss 5.212354374994771: 100%|██████████| 17945/17945 [1:44:13<00:00,  2.87it/s]\n",
            "Loss 4.979604059999639: 100%|██████████| 836/836 [02:27<00:00,  5.68it/s]\n"
          ]
        },
        {
          "output_type": "stream",
          "name": "stdout",
          "text": [
            "Beam Search\n",
            " NEW : The plane 's plane was flying from the air . NEW : The plane 's brother says it 's a plane was a plane was a plane . NEW : The plane was carrying a plane was carrying a plane landed in the air traffic control of the air traffic . The plane 's plane 's plane was flying from the air traffic control . The plane was flying from the air traffic control .\n",
            "Greedy Search\n",
            " NEW : The plane was flying from the air traffic control of the air . NEW : The plane was flying from the plane was flying from the plane was flying from the air . NEW : The plane was flying from the plane was flying from the plane was flying from the air . The plane was flying from the plane was flying from the air . The plane was flying from the plane was flying from the plane was flying from the air . The plane was flying from the plane was flying from the plane was\n",
            "LaGuardia Airport's Runway 13 reopens after plane removed. Passenger: Airplane skidded for about 20 seconds before stopping feet from water. Fire department reports 24 non-life-threatening injuries, three headed to area hospitals.\n",
            "Epoch: 3, Train loss: 5.212, Validation loss: 4.980\n"
          ]
        },
        {
          "output_type": "stream",
          "name": "stderr",
          "text": [
            "Loss 5.197294565919848: 100%|██████████| 17945/17945 [1:43:49<00:00,  2.88it/s]\n",
            "Loss 4.9384205683566735: 100%|██████████| 836/836 [02:26<00:00,  5.69it/s]\n"
          ]
        },
        {
          "output_type": "stream",
          "name": "stdout",
          "text": [
            "Beam Search\n",
            " The teen was arrested on suspicion of conspiracy . The two other teens were on Friday . The teen 's flight from Turkey .\n",
            "Greedy Search\n",
            " The teen , 18 , and 16 , were arrested on suspicion of conspiracy to commit to Syria . The teen was arrested on suspicion of conspiracy to commit to Syria . The teen 's flight from Turkey .\n",
            "Three teens were released on bail in London, where they face terror charges. Three males -- two of them 17, one of them 19 -- detained by Turkish authorities, police say.\n",
            "Epoch: 4, Train loss: 5.197, Validation loss: 4.938\n"
          ]
        },
        {
          "output_type": "stream",
          "name": "stderr",
          "text": [
            "Loss 5.131432339686078: 100%|██████████| 17945/17945 [1:43:55<00:00,  2.88it/s]\n",
            "Loss 4.884839981651762: 100%|██████████| 836/836 [02:27<00:00,  5.68it/s]\n"
          ]
        },
        {
          "output_type": "stream",
          "name": "stdout",
          "text": [
            "Beam Search\n",
            " Davis : \" I 'm not a lot of the world \" . Davis : \" I 'm not racist \" Davis : \" I 'm not racist \" . Davis : \" Davis : \" I 'm not racist \"\n",
            "Greedy Search\n",
            " Davis : Davis ' We 're not racist ' . Davis : Davis , Davis : Davis : Davis should be a lot of girls should be a \" . She says Davis : Davis : Davis : Davis should be a lot of girls should be a lot of girls should be a \"\n",
            "Roxanne Jones: Ballplayer called Mo'ne Davis slut in a tweet. She graciously asked his college to reinstate him after he was kicked from team. Jones: Black girls conditioned from young age by culture and even family to accept being called over-sexualized names. She says it's hurtful, confusing, can have long-term effect. Community should recognize the harm this does to young, smart, strong girls.\n",
            "Epoch: 5, Train loss: 5.131, Validation loss: 4.885\n"
          ]
        },
        {
          "output_type": "stream",
          "name": "stderr",
          "text": [
            "Loss 5.075852467150833: 100%|██████████| 17945/17945 [1:43:58<00:00,  2.88it/s]\n",
            "Loss 4.845335100826464: 100%|██████████| 836/836 [02:27<00:00,  5.66it/s]\n"
          ]
        },
        {
          "output_type": "stream",
          "name": "stdout",
          "text": [
            "Beam Search\n",
            " The model of fashion designer <unk> <unk> <unk> <unk> <unk> <unk> <unk> <unk> <unk> <unk> <unk> <unk> <unk> <unk> <unk> <unk> . The fashion designer <unk> <unk> <unk> <unk> <unk> <unk> <unk> <unk> <unk> <unk> <unk> <unk> <unk> <unk> <unk> <unk> <unk> <unk> <unk> <unk> . <unk> <unk> <unk> <unk> <unk> <unk> <unk> <unk> <unk> <unk> <unk> <unk> <unk> <unk> <unk> <unk> <unk> <unk> <unk> <unk> <unk> <unk> <unk> <unk> <unk> .\n",
            "Greedy Search\n",
            " The model of fashion designer <unk> <unk> <unk> <unk> <unk> <unk> <unk> <unk> <unk> <unk> <unk> <unk> <unk> <unk> <unk> <unk> . The pair were sent to the fashion show . The fashion designer <unk> <unk> <unk> <unk> <unk> <unk> <unk> <unk> <unk> <unk> <unk> <unk> <unk> <unk> <unk> <unk> <unk> <unk> <unk> <unk> <unk> <unk> <unk> <unk> <unk> <unk> <unk> <unk> <unk> <unk> <unk> .\n",
            "Dolce & Gabbana dedicated their fall fashion show to moms. Some of the models carried their own babies down the runway.\n",
            "Epoch: 6, Train loss: 5.076, Validation loss: 4.845\n"
          ]
        },
        {
          "output_type": "stream",
          "name": "stderr",
          "text": [
            "Loss 5.04300556921567: 100%|██████████| 17945/17945 [1:43:23<00:00,  2.89it/s]\n",
            "Loss 4.814945493018228: 100%|██████████| 836/836 [02:24<00:00,  5.79it/s]\n"
          ]
        },
        {
          "output_type": "stream",
          "name": "stdout",
          "text": [
            "Beam Search\n",
            " John Kerry : Netanyahu 's new government is not a right - wing of the state of - run media . He says Netanyahu 's right - wing leaders are not a good idea of the U.S. government 's views on the right - wing party 's views . Netanyahu 's leadership is a right - wing party 's leadership is a right - wing party 's leadership , he says . Netanyahu 's leadership is not a right - wing party 's views .\n",
            "Greedy Search\n",
            " John Kerry : Netanyahu 's comments come after a speech on the state of Israel 's election . He says Netanyahu 's views on the U.S. has been a long - term relationship with Netanyahu 's views . Netanyahu 's views on the U.S. , Netanyahu 's views on the West Bank of the West Bank . Netanyahu 's views on the West Bank of Israel 's leadership is not a political party 's leadership .\n",
            "Israeli Prime Minister Benjamin Netanyahu won re-election Tuesday. Guy Ziv: Netanyahu has repeatedly injected himself into U.S. politics.\n",
            "Epoch: 7, Train loss: 5.043, Validation loss: 4.815\n"
          ]
        },
        {
          "output_type": "stream",
          "name": "stderr",
          "text": [
            "Loss 5.012379246603051: 100%|██████████| 17945/17945 [1:43:28<00:00,  2.89it/s]\n",
            "Loss 4.792713974081158: 100%|██████████| 836/836 [02:25<00:00,  5.76it/s]\n"
          ]
        },
        {
          "output_type": "stream",
          "name": "stdout",
          "text": [
            "Beam Search\n",
            " The two points clear of the best players in the United States . The other players were n't able to get a free . The two points behind the two points behind the two points .\n",
            "Greedy Search\n",
            " The two - time champion Sam <unk> was the first player to win the game . The two - time champion is now the first player to win the game . The two - time champion is the first player to win the game of the game .\n",
            "Kentucky destroys West Virginia. Notre Dame's offense gets hot in the second half, led by Demetrius Jackson. Wisconsin holds off ACC's North Carolina with superb free-throw shooting.\n",
            "Epoch: 8, Train loss: 5.012, Validation loss: 4.793\n"
          ]
        },
        {
          "output_type": "stream",
          "name": "stderr",
          "text": [
            "Loss 4.9856552129337866: 100%|██████████| 17945/17945 [1:43:30<00:00,  2.89it/s]\n",
            "Loss 4.774529633054323: 100%|██████████| 836/836 [02:25<00:00,  5.74it/s]\n"
          ]
        },
        {
          "output_type": "stream",
          "name": "stdout",
          "text": [
            "Beam Search\n",
            " Nigeria 's president says he is \" a great way \" in the country 's military rule \" in the country 's military rule \" in the country 's political situation \" of our country 's political situation \"\n",
            "Greedy Search\n",
            " Nigeria 's president says he is \" a great leader . He says he is \" a good thing \" . He says he is \" in the country 's been in the country 's most important thing \" . He says he is in the country 's president .\n",
            "Incumbent President Goodluck Jonathan acknowledges defeat, says he delivered on promise of fair elections. Muhammadu Buhari's party says Jonathan called to concede even before final results are announced. Buhari is a 72-year-old retired major general who ruled in Nigeria in the 1980s.\n",
            "Epoch: 9, Train loss: 4.986, Validation loss: 4.775\n"
          ]
        },
        {
          "output_type": "stream",
          "name": "stderr",
          "text": [
            "Loss 4.960579798805511: 100%|██████████| 17945/17945 [1:43:21<00:00,  2.89it/s]\n",
            "Loss 4.76147175861888: 100%|██████████| 836/836 [02:25<00:00,  5.74it/s]\n"
          ]
        },
        {
          "output_type": "stream",
          "name": "stdout",
          "text": [
            "Beam Search\n",
            " The Navy 's final - class Navy is expected to be made in the U.S. Navy says it was a Navy ship in the final year of the U.S. Navy 's final film \"\n",
            "Greedy Search\n",
            " The Navy Navy ship was the Navy 's final film . It was the first class to be made by the Navy . The Navy 's Navy 's Navy 's Navy . The Navy Navy Navy Navy Navy Navy Navy Navy says it was a group is expected to be the Navy 's \"\n",
            "Aircraft carrier USS Ranger's final journey likely will take four to five months, Navy says. Ranger, which was launched in 1956, appeared in movies such as \"Top Gun\" and \"Star Trek IV\"\n",
            "Epoch: 10, Train loss: 4.961, Validation loss: 4.761\n"
          ]
        },
        {
          "output_type": "stream",
          "name": "stderr",
          "text": [
            "Loss 4.938481064299815: 100%|██████████| 17945/17945 [1:42:56<00:00,  2.91it/s]\n",
            "Loss 4.740041467276487: 100%|██████████| 836/836 [02:22<00:00,  5.87it/s]\n"
          ]
        },
        {
          "output_type": "stream",
          "name": "stdout",
          "text": [
            "Beam Search\n",
            " Jay Z 's new album is a new album , but not a new album , but it 's not a new album , but it 's not a good idea , but it 's not a good idea , but it 's not a good idea , but it 's not a good idea , but it 's not a good idea , but it 's not a good time , but it 's not a good time , ' ' it 's not a good time is n't a good time is n't easy decision is n't\n",
            "Greedy Search\n",
            " Jay Z 's new album is a new album . The singer has been a popular music industry since the U.S. music industry . The singer has been a new album is a popular music industry .\n",
            "Swift pulled her music from Spotify last year. Jay Z bid more than $56 million for the streaming site. It's being billed as a high end streaming report.\n",
            "Epoch: 11, Train loss: 4.938, Validation loss: 4.740\n"
          ]
        },
        {
          "output_type": "stream",
          "name": "stderr",
          "text": [
            "Loss 4.917503410144316: 100%|██████████| 17945/17945 [1:42:33<00:00,  2.92it/s]\n",
            "Loss 4.718003803463073: 100%|██████████| 836/836 [02:22<00:00,  5.86it/s]\n"
          ]
        },
        {
          "output_type": "stream",
          "name": "stdout",
          "text": [
            "Beam Search\n",
            " This page includes the show Transcript and the show Transcript , and and and a chance of events in a week , and a chance of events , and students with reading comprehension and and and and is a chance for a chance for students ' knowledge of events in their knowledge of events in their knowledge of events in and ' knowledge of events in their latest episode ' knowledge of events in their latest episode ' knowledge of events in a week , comment for a week , comment for a week , comment for a teacher\n",
            "Greedy Search\n",
            " This page includes the show Transcript . Use the Transcript to help students with reading comprehension and vocabulary . At the bottom of the page , comment for a chance to be mentioned on CNN Student News . You must be a teacher or a teacher or a teacher or a teacher or a teacher or a teacher or a teacher or a teacher or a teacher or a teacher or a teacher or a teacher or a teacher or a teacher or a teacher or a teacher or a teacher or a teacher or a teacher or a\n",
            "This page includes the show Transcript. Use the Transcript to help students with reading comprehension and vocabulary. At the bottom of the page, comment for a chance to be mentioned on CNN Student News. You must be a teacher or a student age 13 or older to request a mention on the CNN Student News Roll Call.\n",
            "Epoch: 12, Train loss: 4.918, Validation loss: 4.718\n"
          ]
        },
        {
          "output_type": "stream",
          "name": "stderr",
          "text": [
            "Loss 4.8982408484631375: 100%|██████████| 17945/17945 [1:43:05<00:00,  2.90it/s]\n",
            "Loss 4.7082642351041: 100%|██████████| 836/836 [02:21<00:00,  5.89it/s]\n"
          ]
        },
        {
          "output_type": "stream",
          "name": "stdout",
          "text": [
            "Beam Search\n",
            " NEW says police are \" very serious \" in the deaths \" and \" are not a police official who was found on a street \" police officer who was a suspect \" a suspect \" police officer who was a suspect \" a suspect \" police \" a man who was a suspect \" a man who was a man who was a suspect \" when the children and a man who was taken away \" police officer who was taken away \" police officer who was taken away from her own life - threatening injuries are in\n",
            "Greedy Search\n",
            " NEW : The mother of three children are dead , police say . NEW : The mother of three children are dead . NEW : The mother of the children are \" a woman 's mother says she was \" . NEW : The mother says she was found dead in a hospital .\n",
            "Police fired \"less lethal\" bean bag rounds at woman with knife after she didn't comply. An autopsy set for Sunday could help determine how the children died, police say. 3 children are found unresponsive at a home in Palm Bay, on Florida's East coast.\n",
            "Epoch: 13, Train loss: 4.898, Validation loss: 4.708\n"
          ]
        },
        {
          "output_type": "stream",
          "name": "stderr",
          "text": [
            "Loss 4.8636628931161585:  42%|████▏     | 7560/17945 [43:13<1:00:01,  2.88it/s]"
          ]
        }
      ]
    },
    {
      "cell_type": "markdown",
      "source": [
        "### Results"
      ],
      "metadata": {
        "id": "iBdctNjU7iid"
      }
    },
    {
      "cell_type": "code",
      "source": [
        "if load: \n",
        "    with open('/content/gdrive/MyDrive/NLP/train_losses.pkl','rb') as f :\n",
        "        all_train_losses = pickle.load(f)\n",
        "    with open('/content/gdrive/MyDrive/NLP/validation_losses.pkl','rb') as f :\n",
        "        all_val_losses= pickle.load(f)\n",
        "plt.figure(figsize = (6,4))\n",
        "plt.plot(all_train_losses, label = 'Training Loss', c = 'blue', alpha = 0.7)\n",
        "plt.plot(all_val_losses, label = 'Validation Loss', c = 'green', alpha = 0.7)\n",
        "plt.legend(frameon = False)\n",
        "plt.xlabel('Epoch')\n",
        "plt.ylabel('Cross Entropy')\n",
        "plt.savefig('/content/gdrive/MyDrive/NLP/losses.png', dpi = 600)"
      ],
      "metadata": {
        "colab": {
          "base_uri": "https://localhost:8080/",
          "height": 279
        },
        "id": "KHQG0j8-7GlJ",
        "outputId": "8db7e779-6394-4c8a-9b22-3ab289a2c6dd"
      },
      "execution_count": 24,
      "outputs": [
        {
          "output_type": "display_data",
          "data": {
            "text/plain": [
              "<Figure size 432x288 with 1 Axes>"
            ],
            "image/png": "[encoded data removed]"
          },
          "metadata": {
            "needs_background": "light"
          }
        }
      ]
    },
    {
      "cell_type": "code",
      "source": [
        "## INFERENCE (Greedy Decode)\n",
        "s2s_summaries = []\n",
        "for text in tqdm(df_test['text_cleaned'] ) : \n",
        "  s2s_summaries.append(greedy_summarize(transformer,text, maxlen = 100).strip())"
      ],
      "metadata": {
        "colab": {
          "base_uri": "https://localhost:8080/"
        },
        "id": "cEgy7PLI8aGh",
        "outputId": "b8f4417a-4d80-49d7-8527-0a849b925ab9"
      },
      "execution_count": 41,
      "outputs": [
        {
          "output_type": "stream",
          "name": "stderr",
          "text": [
            "100%|██████████| 11490/11490 [44:00<00:00,  4.35it/s]\n"
          ]
        }
      ]
    },
    {
      "cell_type": "code",
      "source": [
        "## INFERENCE (Beam Search Decode)\n",
        "s2s_summaries_beam = []\n",
        "for text in tqdm(df_test['text_cleaned'] ) : \n",
        "  s2s_summaries_beam.append(beam_summarize(transformer,text, max_len = 100, beam_width = 4, max_iter = 500).strip())"
      ],
      "metadata": {
        "colab": {
          "base_uri": "https://localhost:8080/",
          "height": 363
        },
        "id": "_zmnpyR2IeB-",
        "outputId": "b28d2bf9-a4b5-4085-e23c-f367c4cc3280"
      },
      "execution_count": 50,
      "outputs": [
        {
          "output_type": "stream",
          "name": "stderr",
          "text": [
            "  0%|          | 1/11490 [00:04<15:34:45,  4.88s/it]\n"
          ]
        },
        {
          "output_type": "error",
          "ename": "KeyboardInterrupt",
          "evalue": "ignored",
          "traceback": [
            "\u001b[0;31m---------------------------------------------------------------------------\u001b[0m",
            "\u001b[0;31mKeyboardInterrupt\u001b[0m                         Traceback (most recent call last)",
            "\u001b[0;32m<ipython-input-50-05fc9d03620b>\u001b[0m in \u001b[0;36m<module>\u001b[0;34m()\u001b[0m\n\u001b[1;32m      2\u001b[0m \u001b[0ms2s_summaries_beam\u001b[0m \u001b[0;34m=\u001b[0m \u001b[0;34m[\u001b[0m\u001b[0;34m]\u001b[0m\u001b[0;34m\u001b[0m\u001b[0;34m\u001b[0m\u001b[0m\n\u001b[1;32m      3\u001b[0m \u001b[0;32mfor\u001b[0m \u001b[0mtext\u001b[0m \u001b[0;32min\u001b[0m \u001b[0mtqdm\u001b[0m\u001b[0;34m(\u001b[0m\u001b[0mdf_test\u001b[0m\u001b[0;34m[\u001b[0m\u001b[0;34m'text_cleaned'\u001b[0m\u001b[0;34m]\u001b[0m \u001b[0;34m)\u001b[0m \u001b[0;34m:\u001b[0m\u001b[0;34m\u001b[0m\u001b[0;34m\u001b[0m\u001b[0m\n\u001b[0;32m----> 4\u001b[0;31m   \u001b[0ms2s_summaries_beam\u001b[0m\u001b[0;34m.\u001b[0m\u001b[0mappend\u001b[0m\u001b[0;34m(\u001b[0m\u001b[0mbeam_summarize\u001b[0m\u001b[0;34m(\u001b[0m\u001b[0mtransformer\u001b[0m\u001b[0;34m,\u001b[0m\u001b[0mtext\u001b[0m\u001b[0;34m,\u001b[0m \u001b[0mmax_len\u001b[0m \u001b[0;34m=\u001b[0m \u001b[0;36m100\u001b[0m\u001b[0;34m,\u001b[0m \u001b[0mbeam_width\u001b[0m \u001b[0;34m=\u001b[0m \u001b[0;36m4\u001b[0m\u001b[0;34m,\u001b[0m \u001b[0mmax_iter\u001b[0m \u001b[0;34m=\u001b[0m \u001b[0;36m500\u001b[0m\u001b[0;34m)\u001b[0m\u001b[0;34m.\u001b[0m\u001b[0mstrip\u001b[0m\u001b[0;34m(\u001b[0m\u001b[0;34m)\u001b[0m\u001b[0;34m)\u001b[0m\u001b[0;34m\u001b[0m\u001b[0;34m\u001b[0m\u001b[0m\n\u001b[0m",
            "\u001b[0;32m<ipython-input-15-ac95ae49c2de>\u001b[0m in \u001b[0;36mbeam_summarize\u001b[0;34m(model, src_sentence, max_len, beam_width, max_iter)\u001b[0m\n\u001b[1;32m    124\u001b[0m       \u001b[0msrc_mask\u001b[0m \u001b[0;34m=\u001b[0m \u001b[0;34m(\u001b[0m\u001b[0mtorch\u001b[0m\u001b[0;34m.\u001b[0m\u001b[0mzeros\u001b[0m\u001b[0;34m(\u001b[0m\u001b[0mnum_tokens\u001b[0m\u001b[0;34m,\u001b[0m \u001b[0mnum_tokens\u001b[0m\u001b[0;34m)\u001b[0m\u001b[0;34m)\u001b[0m\u001b[0;34m.\u001b[0m\u001b[0mtype\u001b[0m\u001b[0;34m(\u001b[0m\u001b[0mtorch\u001b[0m\u001b[0;34m.\u001b[0m\u001b[0mbool\u001b[0m\u001b[0;34m)\u001b[0m\u001b[0;34m\u001b[0m\u001b[0;34m\u001b[0m\u001b[0m\n\u001b[1;32m    125\u001b[0m       beam_decoding = beam_decode(\n\u001b[0;32m--> 126\u001b[0;31m           model,  src, src_mask, max_len=max_len, beam_width = beam_width, max_iter = max_iter)\n\u001b[0m\u001b[1;32m    127\u001b[0m       \u001b[0mhighest_prob_decoding\u001b[0m \u001b[0;34m=\u001b[0m \u001b[0mbeam_decoding\u001b[0m\u001b[0;34m[\u001b[0m\u001b[0;36m0\u001b[0m\u001b[0;34m]\u001b[0m\u001b[0;34m[\u001b[0m\u001b[0;36m0\u001b[0m\u001b[0;34m]\u001b[0m\u001b[0;34m\u001b[0m\u001b[0;34m\u001b[0m\u001b[0m\n\u001b[1;32m    128\u001b[0m       \u001b[0;32mreturn\u001b[0m \u001b[0;34m\" \"\u001b[0m\u001b[0;34m.\u001b[0m\u001b[0mjoin\u001b[0m\u001b[0;34m(\u001b[0m\u001b[0msum_vocab\u001b[0m\u001b[0;34m.\u001b[0m\u001b[0mlookup_tokens\u001b[0m\u001b[0;34m(\u001b[0m\u001b[0mhighest_prob_decoding\u001b[0m\u001b[0;34m)\u001b[0m\u001b[0;34m)\u001b[0m\u001b[0;34m.\u001b[0m\u001b[0mreplace\u001b[0m\u001b[0;34m(\u001b[0m\u001b[0;34m\"<sos>\"\u001b[0m\u001b[0;34m,\u001b[0m \u001b[0;34m\"\"\u001b[0m\u001b[0;34m)\u001b[0m\u001b[0;34m.\u001b[0m\u001b[0mreplace\u001b[0m\u001b[0;34m(\u001b[0m\u001b[0;34m\"<eos>\"\u001b[0m\u001b[0;34m,\u001b[0m \u001b[0;34m\"\"\u001b[0m\u001b[0;34m)\u001b[0m\u001b[0;34m.\u001b[0m\u001b[0mstrip\u001b[0m\u001b[0;34m(\u001b[0m\u001b[0;34m)\u001b[0m\u001b[0;34m\u001b[0m\u001b[0;34m\u001b[0m\u001b[0m\n",
            "\u001b[0;32m<ipython-input-15-ac95ae49c2de>\u001b[0m in \u001b[0;36mbeam_decode\u001b[0;34m(model, src, src_mask, beam_width, max_len, max_iter)\u001b[0m\n\u001b[1;32m     92\u001b[0m                 \u001b[0mdecoded_t\u001b[0m \u001b[0;34m=\u001b[0m \u001b[0mindexes\u001b[0m\u001b[0;34m[\u001b[0m\u001b[0;36m0\u001b[0m\u001b[0;34m]\u001b[0m\u001b[0;34m[\u001b[0m\u001b[0mnew_k\u001b[0m\u001b[0;34m]\u001b[0m\u001b[0;34m.\u001b[0m\u001b[0mview\u001b[0m\u001b[0;34m(\u001b[0m\u001b[0;36m1\u001b[0m\u001b[0;34m,\u001b[0m \u001b[0;34m-\u001b[0m\u001b[0;36m1\u001b[0m\u001b[0;34m)\u001b[0m\u001b[0;34m\u001b[0m\u001b[0;34m\u001b[0m\u001b[0m\n\u001b[1;32m     93\u001b[0m                 \u001b[0mlog_p\u001b[0m \u001b[0;34m=\u001b[0m \u001b[0mlog_prob\u001b[0m\u001b[0;34m[\u001b[0m\u001b[0;36m0\u001b[0m\u001b[0;34m]\u001b[0m\u001b[0;34m[\u001b[0m\u001b[0mnew_k\u001b[0m\u001b[0;34m]\u001b[0m\u001b[0;34m.\u001b[0m\u001b[0mitem\u001b[0m\u001b[0;34m(\u001b[0m\u001b[0;34m)\u001b[0m\u001b[0;34m\u001b[0m\u001b[0;34m\u001b[0m\u001b[0m\n\u001b[0;32m---> 94\u001b[0;31m                 \u001b[0mnext_ys\u001b[0m \u001b[0;34m=\u001b[0m \u001b[0mtorch\u001b[0m\u001b[0;34m.\u001b[0m\u001b[0mcat\u001b[0m\u001b[0;34m(\u001b[0m\u001b[0;34m[\u001b[0m\u001b[0mn\u001b[0m\u001b[0;34m.\u001b[0m\u001b[0mys\u001b[0m\u001b[0;34m,\u001b[0m \u001b[0mtorch\u001b[0m\u001b[0;34m.\u001b[0m\u001b[0mones\u001b[0m\u001b[0;34m(\u001b[0m\u001b[0;36m1\u001b[0m\u001b[0;34m,\u001b[0m \u001b[0;36m1\u001b[0m\u001b[0;34m)\u001b[0m\u001b[0;34m.\u001b[0m\u001b[0mtype_as\u001b[0m\u001b[0;34m(\u001b[0m\u001b[0msrc\u001b[0m\u001b[0;34m.\u001b[0m\u001b[0mdata\u001b[0m\u001b[0;34m)\u001b[0m\u001b[0;34m.\u001b[0m\u001b[0mfill_\u001b[0m\u001b[0;34m(\u001b[0m\u001b[0mdecoded_t\u001b[0m\u001b[0;34m.\u001b[0m\u001b[0mitem\u001b[0m\u001b[0;34m(\u001b[0m\u001b[0;34m)\u001b[0m\u001b[0;34m)\u001b[0m\u001b[0;34m]\u001b[0m\u001b[0;34m,\u001b[0m \u001b[0mdim\u001b[0m\u001b[0;34m=\u001b[0m\u001b[0;36m0\u001b[0m\u001b[0;34m)\u001b[0m\u001b[0;34m\u001b[0m\u001b[0;34m\u001b[0m\u001b[0m\n\u001b[0m\u001b[1;32m     95\u001b[0m                 \u001b[0mnode\u001b[0m \u001b[0;34m=\u001b[0m \u001b[0mBeamSearchNode\u001b[0m\u001b[0;34m(\u001b[0m\u001b[0mn\u001b[0m\u001b[0;34m,\u001b[0m \u001b[0mnext_ys\u001b[0m\u001b[0;34m,\u001b[0m \u001b[0mn\u001b[0m\u001b[0;34m.\u001b[0m\u001b[0mlogp\u001b[0m \u001b[0;34m+\u001b[0m \u001b[0mlog_p\u001b[0m\u001b[0;34m,\u001b[0m \u001b[0mn\u001b[0m\u001b[0;34m.\u001b[0m\u001b[0mleng\u001b[0m \u001b[0;34m+\u001b[0m \u001b[0;36m1\u001b[0m\u001b[0;34m)\u001b[0m\u001b[0;34m\u001b[0m\u001b[0;34m\u001b[0m\u001b[0m\n\u001b[1;32m     96\u001b[0m                 \u001b[0mscore\u001b[0m \u001b[0;34m=\u001b[0m \u001b[0;34m-\u001b[0m\u001b[0mnode\u001b[0m\u001b[0;34m.\u001b[0m\u001b[0meval\u001b[0m\u001b[0;34m(\u001b[0m\u001b[0;34m)\u001b[0m\u001b[0;34m\u001b[0m\u001b[0;34m\u001b[0m\u001b[0m\n",
            "\u001b[0;31mKeyboardInterrupt\u001b[0m: "
          ]
        }
      ]
    },
    {
      "cell_type": "code",
      "source": [
        "## CALCULATING ROUGE SCORES ##\n",
        "from nltk.tokenize import sent_tokenize\n",
        "\n",
        "rouge_s2s_summaries = ['\\n'.join(sent_tokenize(i)) for i in tqdm(s2s_summaries, total = len(s2s_summaries))]\n",
        "result_s2s = get_rouge_scores(rouge_s2s_summaries, df_test['y'])"
      ],
      "metadata": {
        "colab": {
          "base_uri": "https://localhost:8080/"
        },
        "id": "sNg08nkkCMZd",
        "outputId": "160ef9de-efa1-4846-f70b-c53457dd0c8a"
      },
      "execution_count": 44,
      "outputs": [
        {
          "output_type": "stream",
          "name": "stderr",
          "text": [
            "100%|██████████| 11490/11490 [00:01<00:00, 7693.86it/s]\n",
            "100%|██████████| 11490/11490 [01:05<00:00, 175.25it/s]\n"
          ]
        }
      ]
    },
    {
      "cell_type": "code",
      "source": [
        "print(f\"(Seq2Seq) Rouge 1: {np.mean(result_s2s['rouge1']):0.3f}\")\n",
        "print(f\"(Seq2Seq) Rouge 2: {np.mean(result_s2s['rouge2']):0.3}\")\n",
        "print(f\"(Seq2Seq) Rouge L: {np.mean(result_s2s['rougeLsum']):0.3f}\")\n"
      ],
      "metadata": {
        "colab": {
          "base_uri": "https://localhost:8080/"
        },
        "id": "hHUiWvkKCUoQ",
        "outputId": "2fffa854-da7e-48b9-83be-ec6b39194515"
      },
      "execution_count": 45,
      "outputs": [
        {
          "output_type": "stream",
          "name": "stdout",
          "text": [
            "(Seq2Seq) Rouge 1: 0.238\n",
            "(Seq2Seq) Rouge 2: 0.0496\n",
            "(Seq2Seq) Rouge L: 0.222\n"
          ]
        }
      ]
    },
    {
      "cell_type": "code",
      "source": [
        "fig, ax = plt.subplots()\n",
        "sns.kdeplot(result_s2s['rouge1'], label = 'Rouge 1', ax = ax)\n",
        "sns.kdeplot(result_s2s['rouge2'], label = 'Rouge 2', ax = ax)\n",
        "sns.kdeplot(result_s2s['rougeLsum'], label = 'Rouge L', ax = ax)\n",
        "plt.legend(frameon = False)\n",
        "plt.title('Seq2Seq - Rouge Scores')\n",
        "x= plt.xlabel('Rouge Score (F1)')"
      ],
      "metadata": {
        "colab": {
          "base_uri": "https://localhost:8080/",
          "height": 295
        },
        "id": "AjutyIpbCZ25",
        "outputId": "a0557625-6cd2-47c8-c932-20272d2f7b73"
      },
      "execution_count": 46,
      "outputs": [
        {
          "output_type": "display_data",
          "data": {
            "text/plain": [
              "<Figure size 432x288 with 1 Axes>"
            ],
            "image/png": "[encoded data removed]"
          },
          "metadata": {
            "needs_background": "light"
          }
        }
      ]
    },
    {
      "cell_type": "code",
      "source": [
        "### Saving for later uses ###\n",
        "\n",
        "import pickle \n",
        "with open('/content/gdrive/MyDrive/NLP/rouge_scores_s2s.pkl','wb') as f :\n",
        "  pickle.dump(result_s2s, f)\n",
        "with open('/content/gdrive/MyDrive/NLP/summaries_s2s.pkl','wb') as f : \n",
        "  pickle.dump(rouge_s2s_summaries,f)"
      ],
      "metadata": {
        "id": "U4cRZki3Cu_F"
      },
      "execution_count": 47,
      "outputs": []
    },
    {
      "cell_type": "markdown",
      "source": [
        "## Pretrained Model: BART Sum (abstractive)"
      ],
      "metadata": {
        "id": "41VvCRItJDer"
      }
    },
    {
      "cell_type": "markdown",
      "source": [
        "In this part, we use facebook [pretrained BART model](https://huggingface.co/facebook/bart-large-cnn). This BART model was fine tuned to produce CNN/Daily Mail summaries. The original publication is available [here](https://arxiv.org/pdf/1910.13461.pdf). BART achieved in $2019$ state-of-the-art performances for this summarization task, gaining around $4$ ROUGE points when compared to the Lead-3 baseline (extractive) and around $2$ points when compared to previous state-of-the-art ([BERT Sum](https://arxiv.org/pdf/1908.08345.pdf))."
      ],
      "metadata": {
        "id": "RdJTC5F85m2P"
      }
    },
    {
      "cell_type": "markdown",
      "source": [
        "We use Huggingface API to load the pretrained model and perform inference on the test split of the CNN/DM dataset."
      ],
      "metadata": {
        "id": "gb9GfUBB7AoX"
      }
    },
    {
      "cell_type": "code",
      "source": [
        "import datasets\n",
        "dataset = datasets.load_dataset(\"ccdv/cnn_dailymail\", '3.0.0', split = 'test')\n",
        "true_summaries = [i['highlights'] for i in dataset]"
      ],
      "metadata": {
        "colab": {
          "base_uri": "https://localhost:8080/"
        },
        "id": "Z7Bugg-NPzI1",
        "outputId": "1ff48f48-1d9d-43f3-e224-2335b4b1ebad"
      },
      "execution_count": null,
      "outputs": [
        {
          "output_type": "stream",
          "name": "stderr",
          "text": [
            "Reusing dataset cnn_dailymail (/root/.cache/huggingface/datasets/ccdv___cnn_dailymail/3.0.0/3.0.0/0107f7388b5c6fae455a5661bcd134fc22da53ea75852027040d8d1e997f101f)\n"
          ]
        }
      ]
    },
    {
      "cell_type": "code",
      "source": [
        "!pip install transformers\n",
        "import transformers\n",
        "from transformers.pipelines.pt_utils import KeyDataset\n",
        "\n",
        "#We build a summarization pipeline: based on the article, it will tokenize and pass it as input to the model.\n",
        "summarizer = transformers.pipeline(\"summarization\", model = \"facebook/bart-large-cnn\", device = 0)"
      ],
      "metadata": {
        "id": "9TKgUvshhPsT"
      },
      "execution_count": null,
      "outputs": []
    },
    {
      "cell_type": "code",
      "source": [
        "## INFERENCE ##\n",
        "\n",
        "batch_size = 16\n",
        "summaries = summarizer(KeyDataset(dataset, 'article'), batch_size = batch_size, max_length=100, do_sample=False, truncation = True)\n",
        "test_summaries = []\n",
        "\n",
        "for model_result in tqdm(summaries, total =dataset.num_rows) : \n",
        "  test_summaries.extend([i['summary_text'] for i in model_result])"
      ],
      "metadata": {
        "colab": {
          "base_uri": "https://localhost:8080/"
        },
        "id": "_no_Y48Jm0AH",
        "outputId": "b21957b1-ab84-4ae0-d38f-d83fe0ed7757"
      },
      "execution_count": null,
      "outputs": [
        {
          "output_type": "stream",
          "name": "stderr",
          "text": [
            "100%|██████████| 11490/11490 [1:49:18<00:00,  1.75it/s]\n"
          ]
        }
      ]
    },
    {
      "cell_type": "code",
      "source": [
        "## CALCULATING ROUGE SCORES ##\n",
        "from nltk.tokenize import sent_tokenize\n",
        "\n",
        "rouge_test_summaries = ['\\n'.join(sent_tokenize(i)) for i in tqdm(test_summaries, total = len(test_summaries))]\n",
        "result_bart = get_rouge_scores(rouge_test_summaries, true_summaries)"
      ],
      "metadata": {
        "colab": {
          "base_uri": "https://localhost:8080/"
        },
        "id": "batIXq612ah5",
        "outputId": "294cdd82-5486-4549-e113-f4acb36b4749"
      },
      "execution_count": null,
      "outputs": [
        {
          "output_type": "stream",
          "name": "stderr",
          "text": [
            "100%|██████████| 11490/11490 [00:02<00:00, 5567.74it/s]\n",
            "100%|██████████| 11490/11490 [01:10<00:00, 162.15it/s]\n"
          ]
        }
      ]
    },
    {
      "cell_type": "code",
      "source": [
        "print(f\"(BART) Rouge 1: {np.mean(result_bart['rouge1']):0.3f}\")\n",
        "print(f\"(BART) Rouge 2: {np.mean(result_bart['rouge2']):0.3}\")\n",
        "print(f\"(BART) Rouge L: {np.mean(result_bart['rougeLsum']):0.3f}\")\n"
      ],
      "metadata": {
        "colab": {
          "base_uri": "https://localhost:8080/"
        },
        "id": "2h5j_Ph01nt_",
        "outputId": "0f68ece8-9baf-465b-f7a1-84b55504209d"
      },
      "execution_count": 106,
      "outputs": [
        {
          "output_type": "stream",
          "name": "stdout",
          "text": [
            "(BART) Rouge 1: 0.440\n",
            "(BART) Rouge 2: 0.21\n",
            "(BART) Rouge L: 0.408\n"
          ]
        }
      ]
    },
    {
      "cell_type": "markdown",
      "source": [
        "We recovered the ROUGE scores from the original BART paper. "
      ],
      "metadata": {
        "id": "P-pVZTQTwldP"
      }
    },
    {
      "cell_type": "code",
      "source": [
        "fig, ax = plt.subplots()\n",
        "sns.kdeplot(result_bart['rouge1'], label = 'Rouge 1', ax = ax)\n",
        "sns.kdeplot(result_bart['rouge2'], label = 'Rouge 2', ax = ax)\n",
        "sns.kdeplot(result_bart['rougeLsum'], label = 'Rouge L', ax = ax)\n",
        "plt.legend(frameon = False)\n",
        "plt.title('BART - Rouge Scores')\n",
        "x= plt.xlabel('Rouge Score (F1)')"
      ],
      "metadata": {
        "colab": {
          "base_uri": "https://localhost:8080/",
          "height": 295
        },
        "id": "CpzMJ0gK5b-1",
        "outputId": "ef4e336f-4a9c-454e-c963-ed8ae2a00be2"
      },
      "execution_count": null,
      "outputs": [
        {
          "output_type": "display_data",
          "data": {
            "text/plain": [
              "<Figure size 432x288 with 1 Axes>"
            ],
            "image/png": "[encoded data removed]"
          },
          "metadata": {
            "needs_background": "light"
          }
        }
      ]
    },
    {
      "cell_type": "code",
      "source": [
        "### Saving for later uses ###\n",
        "\n",
        "import pickle \n",
        "with open('/content/gdrive/MyDrive/NLP/rouge_scores_bart.pkl','wb') as f :\n",
        "  pickle.dump(result_bart, f)\n",
        "with open('/content/gdrive/MyDrive/NLP/summaries_bart.pkl','wb') as f : \n",
        "  pickle.dump(rouge_test_summaries,f)"
      ],
      "metadata": {
        "id": "Ir9U05CG4POx"
      },
      "execution_count": null,
      "outputs": []
    },
    {
      "cell_type": "markdown",
      "source": [
        "## Analyzing predicted summaries"
      ],
      "metadata": {
        "id": "reD96UZSI0-p"
      }
    },
    {
      "cell_type": "code",
      "source": [
        "## Loading Summaries\n",
        "if load: \n",
        "  with open('/content/gdrive/MyDrive/NLP/summaries_lead3.pkl','rb') as f : \n",
        "    lead3_sum = pickle.load(f)\n",
        "  with open('/content/gdrive/MyDrive/NLP/summaries_s2s.pkl','rb') as f : \n",
        "    s2s_sum = pickle.load(f)\n",
        "  with open('/content/gdrive/MyDrive/NLP/summaries_bart.pkl','rb') as f : \n",
        "    bart_sum = pickle.load(f)\n",
        "\n",
        "  with open('/content/gdrive/MyDrive/NLP/rouge_scores_lead3.pkl','rb') as f : \n",
        "    lead3_scores = pickle.load(f)\n",
        "  with open('/content/gdrive/MyDrive/NLP/rouge_scores_s2s.pkl','rb') as f : \n",
        "    s2s_scores = pickle.load(f)\n",
        "  with open('/content/gdrive/MyDrive/NLP/rouge_scores_bart.pkl','rb') as f : \n",
        "    bart_scores = pickle.load(f)\n",
        "\n",
        "  counts_test = pd.read_csv('/content/gdrive/MyDrive/NLP/test_counts.csv')"
      ],
      "metadata": {
        "id": "oAZ2XY9MI3A1"
      },
      "execution_count": 54,
      "outputs": []
    },
    {
      "cell_type": "code",
      "source": [
        "## Small Length Article\n",
        "indices = counts_test[(counts_test['word_count_text']> 60) & (counts_test['word_count_text']< 65)  ].index.tolist()\n",
        "idx = indices[0]\n",
        "\n",
        "print('REFERENCE ARTICLE')\n",
        "print(df_test['text_cleaned'][idx])\n",
        "print('\\nREFERENCE SUMMARY')\n",
        "print(df_test['y'][idx])\n",
        "print('\\nLEAD-3 SUMMARY')\n",
        "print(lead3_sum[idx])\n",
        "print('\\nSeq2Seq SUMMARY')\n",
        "print(s2s_sum[idx])\n",
        "print('\\nBART SUMMARY')\n",
        "print(bart_sum[idx])\n",
        "\n",
        "print('\\n')\n",
        "print('\\t\\t ROUGE-1 \\t ROUGE-2 \\t ROUGE-L')\n",
        "print(f'Lead-3\\t\\t {round(lead3_scores[\"rouge1\"][idx],3)} \\t\\t {round(lead3_scores[\"rouge2\"][idx],3)} \\t\\t {round(lead3_scores[\"rougeLsum\"][idx],3)}')\n",
        "print(f'Seq2Seq\\t\\t {round(s2s_scores[\"rouge1\"][idx],3)} \\t\\t {round(s2s_scores[\"rouge2\"][idx],3)} \\t\\t {round(s2s_scores[\"rougeLsum\"][idx],3)}')\n",
        "print(f'BART\\t\\t {round(bart_scores[\"rouge1\"][idx],3)} \\t\\t {round(bart_scores[\"rouge2\"][idx],3)} \\t\\t {round(bart_scores[\"rougeLsum\"][idx],3)}')"
      ],
      "metadata": {
        "colab": {
          "base_uri": "https://localhost:8080/"
        },
        "id": "RPp8_BfPI99K",
        "outputId": "6700030f-cf1f-464e-bc53-df633d2a1282"
      },
      "execution_count": 103,
      "outputs": [
        {
          "output_type": "stream",
          "name": "stdout",
          "text": [
            "REFERENCE ARTICLE\n",
            "The build-up for the blockbuster fight between Floyd Mayweather and Manny Pacquiao in Las Vegas on May 2 steps up a gear on Tuesday night when the American holds an open workout for the media. The session will be streamed live across the world and you can watch it here from 12am UK (7pm EDT).\n",
            "\n",
            "REFERENCE SUMMARY\n",
            "Floyd Mayweather holds an open media workout from 12am UK (7pm EDT)\n",
            "The American takes on Manny Pacquiao in Las Vegas on May 2 .\n",
            "Mayweather's training is being streamed live across the world .\n",
            "\n",
            "LEAD-3 SUMMARY\n",
            "The build-up for the blockbuster fight between Floyd Mayweather and Manny Pacquiao in Las Vegas on May 2 steps up a gear on Tuesday night when the American holds an open workout for the media.\n",
            "The session will be streamed live across the world and you can watch it here from 12am UK (7pm EDT).\n",
            "\n",
            "Seq2Seq SUMMARY\n",
            "Floyd Mayweather will be open to the fight on Tuesday night .\n",
            "The fight will be open in Las Vegas .\n",
            "Mayweather will be open to the fight Floyd Mayweather and Manny Pacquiao .\n",
            "\n",
            "BART SUMMARY\n",
            "Floyd Mayweather will hold an open workout for the media on Tuesday night.\n",
            "The session will be streamed live across the world and you can watch it here from 12am UK (7pm EDT) Mayweather and Manny Pacquiao will fight in Las Vegas on May 2.\n",
            "\n",
            "\n",
            "\t\t ROUGE-1 \t ROUGE-2 \t ROUGE-L\n",
            "Lead-3\t\t 0.644 \t\t 0.455 \t\t 0.578\n",
            "Seq2Seq\t\t 0.4 \t\t 0.127 \t\t 0.4\n",
            "BART\t\t 0.734 \t\t 0.468 \t\t 0.684\n"
          ]
        }
      ]
    },
    {
      "cell_type": "code",
      "source": [
        "## Medium Length Article \n",
        "\n",
        "\n",
        "indices = counts_test[(counts_test['word_count_text']> 305) & (counts_test['word_count_text']< 310)  ].index.tolist()\n",
        "idx = indices[0]\n",
        "\n",
        "print('REFERENCE ARTICLE')\n",
        "print(df_test['text_cleaned'][idx])\n",
        "print('\\nREFERENCE SUMMARY')\n",
        "print(df_test['y'][idx])\n",
        "print('\\nLEAD-3 SUMMARY')\n",
        "print(lead3_sum[idx])\n",
        "print('\\nSeq2Seq SUMMARY')\n",
        "print(s2s_sum[idx])\n",
        "print('\\nBART SUMMARY')\n",
        "print(bart_sum[idx])\n",
        "\n",
        "print('\\n')\n",
        "print('\\t\\t ROUGE-1 \\t ROUGE-2 \\t ROUGE-L')\n",
        "print(f'Lead-3\\t\\t {round(lead3_scores[\"rouge1\"][idx],3)} \\t\\t {round(lead3_scores[\"rouge2\"][idx],3)} \\t\\t {round(lead3_scores[\"rougeLsum\"][idx],3)}')\n",
        "print(f'Seq2Seq\\t\\t {round(s2s_scores[\"rouge1\"][idx],3)} \\t\\t {round(s2s_scores[\"rouge2\"][idx],3)} \\t\\t {round(s2s_scores[\"rougeLsum\"][idx],3)}')\n",
        "print(f'BART\\t\\t {round(bart_scores[\"rouge1\"][idx],3)} \\t\\t {round(bart_scores[\"rouge2\"][idx],3)} \\t\\t {round(bart_scores[\"rougeLsum\"][idx],3)}')"
      ],
      "metadata": {
        "colab": {
          "base_uri": "https://localhost:8080/"
        },
        "id": "KXdaxldvJhtW",
        "outputId": "61cb9798-06bf-4449-d693-e0b5595b72e4"
      },
      "execution_count": 102,
      "outputs": [
        {
          "output_type": "stream",
          "name": "stdout",
          "text": [
            "REFERENCE ARTICLE\n",
            "(CNN)A judge this week sentenced a former TSA agent to six months in jail for secretly videotaping a female co-worker while she was in the bathroom, prosecutors said. During the investigation, detectives with the Metro Nashville Police Department in Tennessee also found that the agent, 33-year-old Daniel Boykin, entered the woman's home multiple times, where he took videos, photos and other data. Police found more than 90 videos and 1,500 photos of the victim on Boykin's phone and computer. The victim filed a complaint after seeing images of herself on his phone last year. Boykin plead guilty to unlawful photography, aggravated burglary and violation of the computer act, the Nashville District Attorney's Office said. Police said the incident happened in a TSA-only restroom, and that there was no evidence public restrooms were targeted. A TSA official tells CNN that Boykin worked in an administrative capacity and didn't engage in public security screening. Assistant District Attorney Amy Hunter said this case was one of the worst invasion of privacy cases she's seen. \"We are thankful that the sentence includes periodic confinement so that the sentence will hopefully make an impression on this defendant and others,\" Hunter said in a statement. The judge, Randall Wyatt, on Friday called the invasion of privacy \"egregious.\" His sentence also includes five and a half years of probation, which will include GPS monitoring. Boykin was terminated last year when the investigation began. \"TSA holds its employees to the highest ethical standards and has zero tolerance for misconduct in the workplace,\" TSA's Ross Feinstein said in a statement.\n",
            "\n",
            "REFERENCE SUMMARY\n",
            "Former TSA agent Daniel Boykin, 33, videotaped his female co-worker in the restroom, authorities say .\n",
            "Authorities say they found 90 videos and 1,500 photos of the victim on Boykin's phone and computer .\n",
            "Boykin worked in an administrative capacity and didn't do public security screenings, TSA official says .\n",
            "\n",
            "LEAD-3 SUMMARY\n",
            "(CNN)A judge this week sentenced a former TSA agent to six months in jail for secretly videotaping a female co-worker while she was in the bathroom, prosecutors said.\n",
            "During the investigation, detectives with the Metro Nashville Police Department in Tennessee also found that the agent, 33-year-old Daniel Boykin, entered the woman's home multiple times, where he took videos, photos and other data.\n",
            "Police found more than 90 videos and 1,500 photos of the victim on Boykin's phone and computer.\n",
            "\n",
            "Seq2Seq SUMMARY\n",
            "NEW : The judge says the victim was \" very seriously \" .\n",
            "NEW : The judge says the victim 's privacy is \" .\n",
            "NEW : The judge says the worst case is \" .\n",
            "NEW : The victim 's privacy is \"\n",
            "\n",
            "BART SUMMARY\n",
            "Daniel Boykin, 33, entered the woman's home multiple times, where he took videos, photos and other data.\n",
            "Police found more than 90 videos and 1,500 photos of the victim on Boykin's phone and computer.\n",
            "The victim filed a complaint after seeing images of herself on his phone last year.\n",
            "\n",
            "\n",
            "\t\t ROUGE-1 \t ROUGE-2 \t ROUGE-L\n",
            "Lead-3\t\t 0.438 \t\t 0.296 \t\t 0.423\n",
            "Seq2Seq\t\t 0.169 \t\t 0.025 \t\t 0.169\n",
            "BART\t\t 0.427 \t\t 0.317 \t\t 0.408\n"
          ]
        }
      ]
    },
    {
      "cell_type": "code",
      "source": [
        "## Poor Performance BART\n",
        "\n",
        "array = np.array(bart_scores['rouge1'])\n",
        "indices = np.argsort(abs(array - np.quantile(array, 0.05)))\n",
        "subset = counts_test.loc[indices]\n",
        "indices = subset[subset['word_count_text'] < 300].index.tolist()\n",
        "idx = indices[0]\n",
        "\n",
        "print('REFERENCE ARTICLE')\n",
        "print(df_test['text_cleaned'][idx])\n",
        "print('\\nREFERENCE SUMMARY')\n",
        "print(df_test['y'][idx])\n",
        "print('\\nLEAD-3 SUMMARY')\n",
        "print(lead3_sum[idx])\n",
        "print('\\nSeq2Seq SUMMARY')\n",
        "print(s2s_sum[idx])\n",
        "print('\\nBART SUMMARY')\n",
        "print(bart_sum[idx])\n",
        "\n",
        "print('\\n')\n",
        "print('\\t\\t ROUGE-1 \\t ROUGE-2 \\t ROUGE-L')\n",
        "print(f'Lead-3\\t\\t {round(lead3_scores[\"rouge1\"][idx],3)} \\t\\t {round(lead3_scores[\"rouge2\"][idx],3)} \\t\\t {round(lead3_scores[\"rougeLsum\"][idx],3)}')\n",
        "print(f'Seq2Seq\\t\\t {round(s2s_scores[\"rouge1\"][idx],3)} \\t\\t {round(s2s_scores[\"rouge2\"][idx],3)} \\t\\t {round(s2s_scores[\"rougeLsum\"][idx],3)}')\n",
        "print(f'BART\\t\\t {round(bart_scores[\"rouge1\"][idx],3)} \\t\\t {round(bart_scores[\"rouge2\"][idx],3)} \\t\\t {round(bart_scores[\"rougeLsum\"][idx],3)}')"
      ],
      "metadata": {
        "colab": {
          "base_uri": "https://localhost:8080/"
        },
        "id": "YxlkqBCXNc7z",
        "outputId": "069c0c48-6d1a-4a9d-e314-209dffcf77ff"
      },
      "execution_count": 104,
      "outputs": [
        {
          "output_type": "stream",
          "name": "stdout",
          "text": [
            "REFERENCE ARTICLE\n",
            "Saracens flanker Jacques Burger has been cited for alleged foul play during last Sunday's European Champions Cup quarter-final game against Racing Metro in Paris. European Professional Club Rugby said that Burger is alleged to have struck Racing scrum-half Maxime Machenaud midway through the match at Stade Yves-du-Manoir, which Saracens won 12-11. The complaint was made by match citing commissioner Eugene Ryan. Jacques Burger (right) arrives on the scene as Maxime Machenaud (left) prepare to play a diving pass. Burger then catches Machenaud after the ball has gone but the player was low to the floor. Namibia international Burger, 31, will face a disciplinary hearing on Thursday. Welshman Simon Thomas has been appointed as independent judicial officer. World Rugby's low end punishment for such an offence is a two-week ban, with anything from eight weeks to 52 weeks at the top end. Saracens return to Aviva Premiership action against play-off rivals Leicester on Saturday, before tackling Champions Cup semi-final opponents Clermont Auvergne in Saint Etienne on April 18. Burger gets to grips with Racing Metro full back Brice Dulin during Saracens' dramatic victory. Marcelo Bosch celebrates after his last-gasp kick sent Saracens through to the Champions Cup semi-finals.\n",
            "\n",
            "REFERENCE SUMMARY\n",
            "Saracens beat Racing Metro 12-11 to advance to Champions Cup semis .\n",
            "Racing were unhappy about a challenge on Maxime Machenaud .\n",
            "Saracens flanker Jacques Burger has been cited for the tackle .\n",
            "\n",
            "LEAD-3 SUMMARY\n",
            "Saracens flanker Jacques Burger has been cited for alleged foul play during last Sunday's European Champions Cup quarter-final game against Racing Metro in Paris.\n",
            "European Professional Club Rugby said that Burger is alleged to have struck Racing scrum-half Maxime Machenaud midway through the match at Stade Yves-du-Manoir, which Saracens won 12-11.\n",
            "The complaint was made by match citing commissioner Eugene Ryan.\n",
            "\n",
            "Seq2Seq SUMMARY\n",
            "Saracens have been accused of sending off the match against Saracens .\n",
            "Saracens have been accused of sending off the match - fixing .\n",
            "Saracens to the match against Saracens .\n",
            "Saracens have been sent off for two weeks .\n",
            "\n",
            "BART SUMMARY\n",
            "Jacques Burger is alleged to have struck Racing scrum-half Maxime Machenaud midway through the match at Stade Yves-du-Manoir.\n",
            "The complaint was made by match citing commissioner Eugene Ryan.\n",
            "Burger, 31, will face a disciplinary hearing on Thursday.\n",
            "World Rugby's low end punishment for such an offence is a two-week ban, with anything from eight weeks to 52 weeks at the top end.\n",
            "\n",
            "\n",
            "\t\t ROUGE-1 \t ROUGE-2 \t ROUGE-L\n",
            "Lead-3\t\t 0.408 \t\t 0.229 \t\t 0.347\n",
            "Seq2Seq\t\t 0.182 \t\t 0.0 \t\t 0.182\n",
            "BART\t\t 0.245 \t\t 0.042 \t\t 0.224\n"
          ]
        }
      ]
    }
  ]
}